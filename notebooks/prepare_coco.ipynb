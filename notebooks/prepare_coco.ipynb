{
 "cells": [
  {
   "cell_type": "code",
   "execution_count": 1,
   "metadata": {},
   "outputs": [],
   "source": [
    "import json\n",
    "import os\n",
    "\n",
    "import numpy as np\n",
    "import shutil\n",
    "from tqdm import tqdm"
   ]
  },
  {
   "cell_type": "code",
   "execution_count": 2,
   "metadata": {},
   "outputs": [],
   "source": [
    "with open(\"/home/vblot/multiaccurate_cp/annotations/instances_val2014.json\") as f:\n",
    "    data = json.load(f)"
   ]
  },
  {
   "cell_type": "code",
   "execution_count": 3,
   "metadata": {},
   "outputs": [],
   "source": [
    "PATH = \"/home/vblot/multiaccurate_cp/val2014\"\n",
    "OUTPUT_PATH = \"/home/vblot/multiaccurate_cp/data/coco/02_prepared_data\"\n"
   ]
  },
  {
   "cell_type": "code",
   "execution_count": 4,
   "metadata": {},
   "outputs": [],
   "source": [
    "def coco91_to_coco80_class():\n",
    "    \"\"\"\n",
    "    Converts 91-index COCO class IDs to 80-index COCO class IDs.\n",
    "\n",
    "    Returns:\n",
    "        (list): A list of 91 class IDs where the index represents the 80-index class ID and the value is the\n",
    "            corresponding 91-index class ID.\n",
    "    \"\"\"\n",
    "    return [\n",
    "        0,1,2,3,4,5,6,7,8,9,10,None,11,12,13,14,15,16,17,18,19,20,21,22,23,\n",
    "        None,24,25,None,None,26,27,28,29,30,31,32,33,34,35,36,37,38,39,None,\n",
    "        40,41,42,43,44,45,46,47,48,49,50,51,52,53,54,55,56,57,58,59,None,60,\n",
    "        None,None,61,None,62,63,64,65,66,67,68,69,70,71,72,None,73,74,75,76,\n",
    "        77,78,79,None,\n",
    "    \n",
    "    ]"
   ]
  },
  {
   "cell_type": "code",
   "execution_count": 5,
   "metadata": {},
   "outputs": [
    {
     "data": {
      "text/plain": [
       "91"
      ]
     },
     "execution_count": 5,
     "metadata": {},
     "output_type": "execute_result"
    }
   ],
   "source": [
    "len(coco91_to_coco80_class())"
   ]
  },
  {
   "cell_type": "code",
   "execution_count": 6,
   "metadata": {},
   "outputs": [],
   "source": [
    "def find_img_name_from_id(img_id):\n",
    "    for img in data[\"images\"]:\n",
    "        if img[\"id\"] == img_id:\n",
    "            return img[\"file_name\"]"
   ]
  },
  {
   "cell_type": "code",
   "execution_count": 7,
   "metadata": {},
   "outputs": [
    {
     "name": "stderr",
     "output_type": "stream",
     "text": [
      "100%|██████████| 291875/291875 [02:27<00:00, 1981.19it/s]\n"
     ]
    }
   ],
   "source": [
    "annotations = {}\n",
    "coco_convertion = coco91_to_coco80_class()\n",
    "for annotation in tqdm(data[\"annotations\"]):\n",
    "    annot_img_id = annotation[\"image_id\"]\n",
    "    img_name = find_img_name_from_id(annot_img_id)\n",
    "    if img_name not in annotations:\n",
    "        annotations[img_name] = np.zeros(80)\n",
    "    annotation90 = annotation[\"category_id\"]\n",
    "    annotation80 = coco_convertion[annotation90 - 1]\n",
    "    annotations[img_name][annotation80] = 1"
   ]
  },
  {
   "cell_type": "code",
   "execution_count": 8,
   "metadata": {},
   "outputs": [],
   "source": [
    "all_annots = []\n",
    "\n",
    "for img_name, annot in annotations.items():\n",
    "    all_annots.append(annot)"
   ]
  },
  {
   "cell_type": "code",
   "execution_count": 9,
   "metadata": {},
   "outputs": [
    {
     "data": {
      "text/plain": [
       "1.0"
      ]
     },
     "execution_count": 9,
     "metadata": {},
     "output_type": "execute_result"
    }
   ],
   "source": [
    "np.array(all_annots).sum(axis=1).min()"
   ]
  },
  {
   "cell_type": "code",
   "execution_count": 10,
   "metadata": {},
   "outputs": [],
   "source": [
    "TEST = .5\n",
    "CAL = .25\n",
    "RES = .25\n"
   ]
  },
  {
   "cell_type": "code",
   "execution_count": 11,
   "metadata": {},
   "outputs": [],
   "source": [
    "all_images = os.listdir(PATH)\n",
    "\n",
    "\n",
    "n_test = int(len(all_images) * TEST)\n",
    "n_cal = int(len(all_images) * CAL)\n"
   ]
  },
  {
   "cell_type": "code",
   "execution_count": 12,
   "metadata": {},
   "outputs": [],
   "source": [
    "np.random.seed(42)\n",
    "test_images = np.random.choice(all_images, n_test, replace=False)\n",
    "all_images = list(set(all_images) - set(test_images))\n",
    "cal_images = np.random.choice(all_images, n_cal, replace=False)\n",
    "res_images = list(set(all_images) - set(cal_images))"
   ]
  },
  {
   "cell_type": "code",
   "execution_count": 13,
   "metadata": {},
   "outputs": [
    {
     "data": {
      "text/plain": [
       "(20252, 10126, 10126)"
      ]
     },
     "execution_count": 13,
     "metadata": {},
     "output_type": "execute_result"
    }
   ],
   "source": [
    "len(test_images), len(cal_images), len(res_images)"
   ]
  },
  {
   "cell_type": "code",
   "execution_count": 14,
   "metadata": {},
   "outputs": [],
   "source": [
    "assert len(set(test_images) & set(cal_images)) == 0\n",
    "assert len(set(test_images) & set(res_images)) == 0\n",
    "assert len(set(cal_images) & set(res_images)) == 0"
   ]
  },
  {
   "cell_type": "code",
   "execution_count": 15,
   "metadata": {},
   "outputs": [
    {
     "name": "stderr",
     "output_type": "stream",
     "text": [
      "100%|██████████| 20252/20252 [00:06<00:00, 3294.69it/s]\n"
     ]
    }
   ],
   "source": [
    "for img_name in tqdm(test_images):\n",
    "    if img_name in annotations:\n",
    "        if not os.path.exists(os.path.join(OUTPUT_PATH, \"test\", \"images\", img_name)):\n",
    "            os.makedirs(os.path.join(OUTPUT_PATH, \"test\", \"images\"), exist_ok=True)\n",
    "            os.makedirs(os.path.join(OUTPUT_PATH, \"test\", \"labels\"), exist_ok=True)\n",
    "        shutil.copy(os.path.join(PATH, img_name), os.path.join(OUTPUT_PATH, \"test\", \"images\", img_name))\n",
    "        np.save(os.path.join(OUTPUT_PATH, \"test\", \"labels\", img_name.replace(\".jpg\", \".npy\")), annotations[img_name])"
   ]
  },
  {
   "cell_type": "code",
   "execution_count": 16,
   "metadata": {},
   "outputs": [
    {
     "name": "stderr",
     "output_type": "stream",
     "text": [
      "100%|██████████| 10126/10126 [00:04<00:00, 2214.05it/s]\n"
     ]
    }
   ],
   "source": [
    "for img_name in tqdm(cal_images):\n",
    "    if img_name in annotations:\n",
    "        if not os.path.exists(os.path.join(OUTPUT_PATH, \"cal\", \"images\", img_name)):\n",
    "            os.makedirs(os.path.join(OUTPUT_PATH, \"cal\", \"images\"), exist_ok=True)\n",
    "            os.makedirs(os.path.join(OUTPUT_PATH, \"cal\", \"labels\"), exist_ok=True)\n",
    "        shutil.copy(os.path.join(PATH, img_name), os.path.join(OUTPUT_PATH, \"cal\", \"images\", img_name))\n",
    "        np.save(os.path.join(OUTPUT_PATH, \"cal\", \"labels\", img_name.replace(\".jpg\", \".npy\")), annotations[img_name])"
   ]
  },
  {
   "cell_type": "code",
   "execution_count": 17,
   "metadata": {},
   "outputs": [
    {
     "name": "stderr",
     "output_type": "stream",
     "text": [
      "100%|██████████| 10126/10126 [00:02<00:00, 3676.69it/s]\n"
     ]
    }
   ],
   "source": [
    "for img_name in tqdm(res_images):\n",
    "    if img_name in annotations:\n",
    "        if not os.path.exists(os.path.join(OUTPUT_PATH, \"res\", \"images\", img_name)):\n",
    "            os.makedirs(os.path.join(OUTPUT_PATH, \"res\", \"images\"), exist_ok=True)\n",
    "            os.makedirs(os.path.join(OUTPUT_PATH, \"res\", \"labels\"), exist_ok=True)\n",
    "        shutil.copy(os.path.join(PATH, img_name), os.path.join(OUTPUT_PATH, \"res\", \"images\", img_name))\n",
    "        np.save(os.path.join(OUTPUT_PATH, \"res\", \"labels\", img_name.replace(\".jpg\", \".npy\")), annotations[img_name])"
   ]
  },
  {
   "cell_type": "code",
   "execution_count": 19,
   "metadata": {},
   "outputs": [
    {
     "name": "stderr",
     "output_type": "stream",
     "text": [
      "100%|██████████| 10028/10028 [00:56<00:00, 177.55it/s]\n"
     ]
    }
   ],
   "source": [
    "mean_R = []\n",
    "mean_G = []\n",
    "mean_B = []\n",
    "import cv2\n",
    "for img_name in tqdm(os.listdir(os.path.join(OUTPUT_PATH, \"res\", \"images\"))):\n",
    "    img = cv2.imread(os.path.join(OUTPUT_PATH, \"res\", \"images\", img_name))\n",
    "    img = cv2.cvtColor(img, cv2.COLOR_BGR2RGB)\n",
    "    mean_R.append(img[:, :, 0].mean())\n",
    "    mean_G.append(img[:, :, 1].mean())\n",
    "    mean_B.append(img[:, :, 2].mean())"
   ]
  },
  {
   "cell_type": "code",
   "execution_count": 20,
   "metadata": {},
   "outputs": [
    {
     "data": {
      "text/plain": [
       "(119.58259800370193, 114.03284258823422, 104.23619362025266)"
      ]
     },
     "execution_count": 20,
     "metadata": {},
     "output_type": "execute_result"
    }
   ],
   "source": [
    "np.mean(mean_R), np.mean(mean_G), np.mean(mean_B)"
   ]
  },
  {
   "cell_type": "code",
   "execution_count": 23,
   "metadata": {},
   "outputs": [],
   "source": [
    "np.save(os.path.join(OUTPUT_PATH, \"mean.npy\"), np.array([np.mean(mean_R), np.mean(mean_G), np.mean(mean_B)]))"
   ]
  },
  {
   "cell_type": "code",
   "execution_count": null,
   "metadata": {},
   "outputs": [],
   "source": []
  }
 ],
 "metadata": {
  "kernelspec": {
   "display_name": ".venv",
   "language": "python",
   "name": "python3"
  },
  "language_info": {
   "codemirror_mode": {
    "name": "ipython",
    "version": 3
   },
   "file_extension": ".py",
   "mimetype": "text/x-python",
   "name": "python",
   "nbconvert_exporter": "python",
   "pygments_lexer": "ipython3",
   "version": "3.10.12"
  }
 },
 "nbformat": 4,
 "nbformat_minor": 2
}
