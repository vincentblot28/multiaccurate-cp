{
 "cells": [
  {
   "cell_type": "code",
   "execution_count": null,
   "metadata": {},
   "outputs": [],
   "source": [
    "import sys\n",
    "sys.path.append(\"/home/vblot/multiaccurate_cp/\")"
   ]
  },
  {
   "cell_type": "code",
   "execution_count": null,
   "metadata": {},
   "outputs": [],
   "source": [
    "sys.path"
   ]
  },
  {
   "cell_type": "code",
   "execution_count": null,
   "metadata": {},
   "outputs": [],
   "source": [
    "import os\n",
    "import yaml\n",
    "\n",
    "import cv2\n",
    "import numpy as np\n",
    "import matplotlib.pyplot as plt\n",
    "from mapie.multi_label_classification import MapieMultiLabelClassifier\n",
    "from scipy import integrate\n",
    "from scipy.optimize import minimize\n",
    "from tqdm import tqdm\n",
    "\n",
    "from multiaccurate_cp.utils.multiaccurate import J, J_prime\n",
    "\n",
    "%load_ext autoreload\n",
    "%autoreload 2"
   ]
  },
  {
   "cell_type": "code",
   "execution_count": null,
   "metadata": {},
   "outputs": [],
   "source": [
    "BASE_DIR = \"/home/vblot/multiaccurate_cp/data/polyp\"\n",
    "MODELS_PATH = \"/home/vblot/multiaccurate_cp/data/polyp/03_model_weights/resnet\"\n",
    "MODEL_NAME = \"20240325_1446\""
   ]
  },
  {
   "cell_type": "code",
   "execution_count": null,
   "metadata": {},
   "outputs": [],
   "source": [
    "# Specify the path to the YAML file\n",
    "file_path = os.path.join(MODELS_PATH, MODEL_NAME, \"config.yaml\")\n",
    "\n",
    "# Read the YAML file\n",
    "with open(file_path, \"r\") as file:\n",
    "    config = yaml.safe_load(file)\n"
   ]
  },
  {
   "cell_type": "code",
   "execution_count": null,
   "metadata": {},
   "outputs": [],
   "source": [
    "IMG_SIZE = 64\n",
    "RESNET_EMBEDDING_SIZE = config[\"model\"][\"embedding_size\"] + 1\n"
   ]
  },
  {
   "cell_type": "code",
   "execution_count": null,
   "metadata": {},
   "outputs": [],
   "source": [
    "DIR_CAL_PRED_PROBAS = os.path.join(BASE_DIR, \"04_predictions/cal/pred_probas2\")\n",
    "DIR_CAL_LABELS = os.path.join(BASE_DIR, \"02_prepared_data/cal/labels\")\n",
    "DIR_TEST_PRED_PROBAS = DIR_CAL_PRED_PROBAS.replace(\"cal\", \"test\")\n",
    "DIR_TEST_LABELS = DIR_CAL_LABELS.replace(\"cal\", \"test\")\n",
    "\n",
    "DIR_CAL_RES_EMB = os.path.join(BASE_DIR, \"04_predictions/cal/res_embeddings\", MODEL_NAME)\n",
    "DIR_TEST_RES_EMB = DIR_CAL_RES_EMB.replace(\"cal\", \"test\")\n",
    "\n",
    "\n"
   ]
  },
  {
   "cell_type": "code",
   "execution_count": null,
   "metadata": {},
   "outputs": [],
   "source": [
    "def load_data(pred_probas_dir, res_emb_dir, labels_dir):\n",
    "    pred_probas = np.zeros((len(os.listdir(pred_probas_dir)), IMG_SIZE, IMG_SIZE))\n",
    "    res_emb = np.zeros((len(os.listdir(res_emb_dir)), RESNET_EMBEDDING_SIZE - 1))\n",
    "    labels = np.zeros((len(os.listdir(labels_dir)), IMG_SIZE, IMG_SIZE))\n",
    "\n",
    "    for i, (pred_proba_file, res_emb_file, label_file) in enumerate(\n",
    "        tqdm(zip(\n",
    "            sorted(os.listdir(pred_probas_dir)),\n",
    "            sorted(os.listdir(res_emb_dir)),\n",
    "            sorted(os.listdir(labels_dir))\n",
    "        ))\n",
    "    ):\n",
    "        pred_proba = np.load(os.path.join(pred_probas_dir, pred_proba_file))\n",
    "        pred_probas[i] = cv2.resize(pred_proba, (IMG_SIZE, IMG_SIZE))\n",
    "        res_emb[i] = np.load(os.path.join(res_emb_dir, res_emb_file))\n",
    "        label = cv2.imread(os.path.join(labels_dir, label_file), cv2.IMREAD_GRAYSCALE) / 255\n",
    "        labels[i] = cv2.resize(label, (IMG_SIZE, IMG_SIZE)) > .5    \n",
    "    return pred_probas, res_emb, labels\n"
   ]
  },
  {
   "cell_type": "code",
   "execution_count": null,
   "metadata": {},
   "outputs": [],
   "source": [
    "load_cal_pred_probas, load_cal_res_emb, load_cal_labels = load_data(\n",
    "    DIR_CAL_PRED_PROBAS, DIR_CAL_RES_EMB, DIR_CAL_LABELS\n",
    ")\n"
   ]
  },
  {
   "cell_type": "code",
   "execution_count": null,
   "metadata": {},
   "outputs": [],
   "source": [
    "load_test_pred_probas, load_test_res_emb, load_test_labels = load_data(\n",
    "    DIR_TEST_PRED_PROBAS, DIR_TEST_RES_EMB, DIR_TEST_LABELS\n",
    ")"
   ]
  },
  {
   "cell_type": "code",
   "execution_count": null,
   "metadata": {},
   "outputs": [],
   "source": [
    "all_pred_probas = np.concatenate([load_cal_pred_probas, load_test_pred_probas])\n",
    "all_res_emb = np.concatenate([load_cal_res_emb, load_test_res_emb])\n",
    "all_labels = np.concatenate([load_cal_labels, load_test_labels])\n",
    "all_res_emb = np.concatenate([all_res_emb, np.ones((all_res_emb.shape[0], 1))], axis=1)"
   ]
  },
  {
   "cell_type": "code",
   "execution_count": null,
   "metadata": {},
   "outputs": [],
   "source": [
    "all_res_emb.shape"
   ]
  },
  {
   "cell_type": "code",
   "execution_count": null,
   "metadata": {},
   "outputs": [],
   "source": [
    "ALPHA = .1\n",
    "REGULARIZATION = \"ridge\""
   ]
  },
  {
   "cell_type": "code",
   "execution_count": null,
   "metadata": {},
   "outputs": [],
   "source": [
    "class MapieWrapper():\n",
    "    def __init__(self):\n",
    "        self.trained_ = True\n",
    "        self.classes_ = 1\n",
    "\n",
    "    def fit(self, X, y=None):\n",
    "        pass\n",
    "\n",
    "    def predict_proba(self, X):\n",
    "        return X\n",
    "\n",
    "    def predict(self, X):\n",
    "        pred_proba = self.predict_proba(X)\n",
    "        return pred_proba >= .5\n",
    "\n",
    "    def __sklearn_is_fitted__(self):\n",
    "        return True"
   ]
  },
  {
   "cell_type": "code",
   "execution_count": null,
   "metadata": {},
   "outputs": [],
   "source": [
    "def grid_search_lambda(labels, pred_probas, embeddings, embedding_size):\n",
    "    lambdas = [0.001, 0.01, 0.1, 0.2, 0.5, 0.7, 1]\n",
    "    best_dist = np.inf\n",
    "    best_lambda = None\n",
    "    cv = len(lambdas)\n",
    "    # get cv indices\n",
    "    indices = np.arange(len(labels))\n",
    "    np.random.shuffle(indices)\n",
    "    indices = np.array_split(indices, cv)\n",
    "    for i, lambda_ in enumerate(tqdm(lambdas)):\n",
    "        test_labels = labels[indices[i]]\n",
    "        test_pred_probas = pred_probas[indices[i]]\n",
    "        test_res_emb = embeddings[indices[i]]\n",
    "        cal_labels = np.concatenate([labels[indices[j]] for j in range(cv) if j != i])\n",
    "        cal_pred_probas = np.concatenate([pred_probas[indices[j]] for j in range(cv) if j != i])\n",
    "        cal_res_emb = np.concatenate([embeddings[indices[j]] for j in range(cv) if j != i])\n",
    "        cal_res_emb = np.concatenate([np.ones((len(cal_res_emb), 1)), cal_res_emb], axis=1)\n",
    "        test_res_emb = np.concatenate([np.ones((len(test_res_emb), 1)), test_res_emb], axis=1)\n",
    "        result = minimize(\n",
    "            J, np.random.uniform(0, 1, embedding_size),\n",
    "            method=\"SLSQP\",\n",
    "            args=(cal_labels, cal_pred_probas, cal_res_emb, ALPHA, len(cal_labels), REGULARIZATION, lambda_), jac=J_prime,\n",
    "            options={\"disp\": False, \"maxiter\": 10000}\n",
    "        )\n",
    "        ths = np.maximum((test_res_emb @ result.x).reshape(-1, 1, 1), 0.01)\n",
    "        ths = (test_res_emb @ result.x).reshape(-1, 1, 1)\n",
    "        test_res_emb.shape\n",
    "        y_pred_test_th = (test_pred_probas >= ths).astype(int)\n",
    "        recall_test = np.nanmean((y_pred_test_th * test_labels).sum(axis=1) / test_labels.sum(axis=1))\n",
    "        if (np.abs(recall_test - (1 - ALPHA))) < best_dist:\n",
    "            best_dist = np.abs(recall_test - (1 - ALPHA))\n",
    "            best_lambda = lambda_\n",
    "        \n",
    "    return best_lambda, best_dist\n",
    "        "
   ]
  },
  {
   "cell_type": "markdown",
   "metadata": {},
   "source": [
    "# Cross validation"
   ]
  },
  {
   "cell_type": "code",
   "execution_count": null,
   "metadata": {},
   "outputs": [],
   "source": [
    "recalls_crc = []\n",
    "recalls_resnet = []\n",
    "\n",
    "precisions_crc = []\n",
    "precisions_resnet = []\n",
    "\n",
    "for _ in tqdm(range(100)):\n",
    "    cal_inx = np.random.choice(range(len(all_pred_probas)), len(all_pred_probas) // 2 , replace=False)\n",
    "    test_inx = np.array([i for i in range(len(all_pred_probas)) if i not in cal_inx])\n",
    "    temp_cal_pred_probas = all_pred_probas[cal_inx]\n",
    "    temp_cal_res_emb = all_res_emb[cal_inx]\n",
    "    temp_cal_labels = all_labels[cal_inx]\n",
    "\n",
    "    index_not_empy = np.where(temp_cal_labels.sum(axis=(1, 2)) > 0)[0]\n",
    "    temp_cal_labels = temp_cal_labels[index_not_empy]\n",
    "    temp_cal_res_emb = temp_cal_res_emb[index_not_empy]\n",
    "    temp_cal_pred_probas = temp_cal_pred_probas[index_not_empy]\n",
    "\n",
    "    temp_test_pred_probas = all_pred_probas[test_inx]\n",
    "    temp_test_res_emb = all_res_emb[test_inx]\n",
    "    temp_test_labels = all_labels[test_inx]\n",
    "\n",
    "    # CRC\n",
    "    mapie_crc = MapieMultiLabelClassifier(MapieWrapper(), method=\"crc\")\n",
    "    mapie_crc.lambdas = np.arange(0, 1, 0.001)\n",
    "\n",
    "    for i in tqdm(range(len(temp_cal_pred_probas))):\n",
    "        X, y = temp_cal_pred_probas[i], temp_cal_labels[i]\n",
    "        mapie_crc.partial_fit(X.ravel()[np.newaxis, :], y.ravel()[np.newaxis, :])\n",
    "    _, _ = mapie_crc.predict(temp_test_pred_probas.ravel()[np.newaxis, :], alpha=ALPHA)\n",
    "    th_crc = mapie_crc.lambdas_star\n",
    "\n",
    "    # ResNet\n",
    "    # lambda_resnet, dist_resnet = grid_search_lambda(temp_cal_labels, temp_cal_pred_probas, temp_cal_res_emb, RESNET_EMBEDDING_SIZE)\n",
    "    # print(lambda_resnet, dist_resnet)\n",
    "    lambda_resnet = 0.001\n",
    "    result_res = minimize(\n",
    "        J, np.random.uniform(0, 1, RESNET_EMBEDDING_SIZE),\n",
    "        method=\"SLSQP\",\n",
    "        args=(temp_cal_labels, temp_cal_pred_probas, temp_cal_res_emb, ALPHA, len(temp_cal_labels), REGULARIZATION, lambda_resnet), jac=J_prime,\n",
    "        options={\"disp\": True, \"maxiter\": 1000}, tol=1e-10\n",
    "    )\n",
    "    ths_res = (temp_test_res_emb @ result_res.x).reshape(-1, 1, 1)\n",
    "\n",
    "    \n",
    "\n",
    "    y_pred_test_th_crc = (temp_test_pred_probas >= th_crc).astype(int)\n",
    "    y_pred_test_th_res = (temp_test_pred_probas >= ths_res).astype(int)\n",
    "\n",
    "    recalls_crc.append(np.nanmean((y_pred_test_th_crc * temp_test_labels).sum(axis=(1, 2)) / temp_test_labels.sum(axis=(1, 2))))\n",
    "    recalls_resnet.append(np.nanmean((y_pred_test_th_res * temp_test_labels).sum(axis=(1, 2)) / temp_test_labels.sum(axis=(1, 2))))\n",
    "\n",
    "    precisions_crc.append(np.nanmean((y_pred_test_th_crc * temp_test_labels).sum(axis=(1, 2)) / y_pred_test_th_crc.sum(axis=(1, 2))))\n",
    "    precisions_resnet.append(np.nanmean((y_pred_test_th_res * temp_test_labels).sum(axis=(1, 2)) / y_pred_test_th_res.sum(axis=(1, 2))))\n",
    "    print(f\"recalls: CRC = {recalls_crc[-1]}, MACP = {recalls_resnet[-1]}\")\n",
    "    print(f\"precisions: CRC = {precisions_crc[-1]}, MACP = {precisions_resnet[-1]}\")\n",
    "    \n",
    "    "
   ]
  },
  {
   "cell_type": "markdown",
   "metadata": {},
   "source": [
    "# Plot results"
   ]
  },
  {
   "cell_type": "code",
   "execution_count": null,
   "metadata": {},
   "outputs": [],
   "source": [
    "s = 10\n",
    "nrow = 2\n",
    "ncol = 2\n",
    "f, ax = plt.subplots(nrow, ncol, figsize=(ncol * s, nrow * s))\n",
    "\n",
    "nbins = 20\n",
    "ax[0, 0].hist(recalls_resnet, bins=nbins, alpha=.5)\n",
    "ax[0, 0].set_title(f\"Muti-accurate ResNet embedding - average recall: {np.nanmean(recalls_resnet):.3f}\")\n",
    "ax[0, 0].set_xlabel(\"Recall\")\n",
    "\n",
    "ax[0, 1].hist(recalls_crc, bins=nbins, alpha=.5)\n",
    "ax[0, 1].set_title(f\"CRC - average recall: {np.nanmean(recalls_crc):.3f}\")\n",
    "ax[0, 1].set_xlabel(\"Recall\")\n",
    "\n",
    "ax[1, 0].hist(precisions_resnet, bins=nbins, alpha=.5)\n",
    "ax[1, 0].set_title(f\"Muti-accurate ResNet embedding - average precision: {np.nanmean(precisions_resnet):.3f}\")\n",
    "ax[1, 0].set_xlabel(\"Precision\")\n",
    "\n",
    "ax[1, 1].hist(precisions_crc, bins=nbins, alpha=.5)\n",
    "ax[1, 1].set_title(f\"CRC - average precision: {np.nanmean(precisions_crc):.3f}\")\n",
    "ax[1, 1].set_xlabel(\"Precision\")"
   ]
  },
  {
   "cell_type": "code",
   "execution_count": null,
   "metadata": {},
   "outputs": [],
   "source": [
    "plt.hist(precisions_crc, alpha=.5)\n",
    "plt.hist(precisions_resnet, alpha=.7)"
   ]
  },
  {
   "cell_type": "code",
   "execution_count": null,
   "metadata": {},
   "outputs": [],
   "source": [
    "np.save(\"results_cv/polyp/new_recalls_crc.npy\", recalls_crc)\n",
    "np.save(\"results_cv/polyp/new_recalls_resnet.npy\", recalls_resnet)\n",
    "np.save(\"results_cv/polyp/new_precisions_crc.npy\", precisions_crc)\n",
    "np.save(\"results_cv/polyp/new_precisions_resnet.npy\", precisions_resnet)\n"
   ]
  },
  {
   "cell_type": "code",
   "execution_count": null,
   "metadata": {},
   "outputs": [],
   "source": []
  }
 ],
 "metadata": {
  "kernelspec": {
   "display_name": ".venv",
   "language": "python",
   "name": "python3"
  },
  "language_info": {
   "codemirror_mode": {
    "name": "ipython",
    "version": 3
   },
   "file_extension": ".py",
   "mimetype": "text/x-python",
   "name": "python",
   "nbconvert_exporter": "python",
   "pygments_lexer": "ipython3",
   "version": "3.10.12"
  }
 },
 "nbformat": 4,
 "nbformat_minor": 2
}
