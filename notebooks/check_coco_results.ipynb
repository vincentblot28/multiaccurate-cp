{
 "cells": [
  {
   "cell_type": "code",
   "execution_count": 59,
   "metadata": {},
   "outputs": [],
   "source": [
    "import os\n",
    "\n",
    "import numpy as np\n",
    "from tqdm import tqdm"
   ]
  },
  {
   "cell_type": "code",
   "execution_count": 64,
   "metadata": {},
   "outputs": [],
   "source": [
    "ml_set = \"cal\"\n",
    "PATH_LABELS = f\"/home/vblot/multiaccurate_cp/data/coco/02_prepared_data/{ml_set}/labels\"\n",
    "PATH_PREDS = f\"/home/vblot/multiaccurate_cp/data/coco/04_predictions/{ml_set}/pred_probas\"\n",
    "TH = 0.5"
   ]
  },
  {
   "cell_type": "code",
   "execution_count": 65,
   "metadata": {},
   "outputs": [
    {
     "name": "stderr",
     "output_type": "stream",
     "text": [
      "100%|██████████| 10014/10014 [00:01<00:00, 6579.74it/s]\n"
     ]
    }
   ],
   "source": [
    "recalls = []\n",
    "precisions = []\n",
    "problem = 0\n",
    "\n",
    "for file in tqdm(os.listdir(PATH_LABELS)):\n",
    "    try:\n",
    "        preds = np.load(os.path.join(PATH_PREDS, file))\n",
    "        labels = np.load(os.path.join(PATH_LABELS, file))\n",
    "        preds_th = preds >= TH\n",
    "\n",
    "        recalls.append(np.sum(preds_th * labels) / np.sum(labels))\n",
    "        precisions.append(np.sum(preds_th * labels) / np.sum(preds_th))\n",
    "    except Exception as e:\n",
    "        print(e)\n",
    "        problem += 1\n"
   ]
  },
  {
   "cell_type": "code",
   "execution_count": 66,
   "metadata": {},
   "outputs": [
    {
     "data": {
      "text/plain": [
       "(0.9494081820250184, 0.6415513430552926, 0)"
      ]
     },
     "execution_count": 66,
     "metadata": {},
     "output_type": "execute_result"
    }
   ],
   "source": [
    "np.mean(recalls), np.nanmean(precisions), problem  "
   ]
  },
  {
   "cell_type": "code",
   "execution_count": 63,
   "metadata": {},
   "outputs": [
    {
     "data": {
      "text/plain": [
       "0"
      ]
     },
     "execution_count": 63,
     "metadata": {},
     "output_type": "execute_result"
    }
   ],
   "source": [
    "labels.argmax()"
   ]
  },
  {
   "cell_type": "code",
   "execution_count": null,
   "metadata": {},
   "outputs": [],
   "source": []
  }
 ],
 "metadata": {
  "kernelspec": {
   "display_name": ".venv",
   "language": "python",
   "name": "python3"
  },
  "language_info": {
   "codemirror_mode": {
    "name": "ipython",
    "version": 3
   },
   "file_extension": ".py",
   "mimetype": "text/x-python",
   "name": "python",
   "nbconvert_exporter": "python",
   "pygments_lexer": "ipython3",
   "version": "3.10.12"
  }
 },
 "nbformat": 4,
 "nbformat_minor": 2
}
