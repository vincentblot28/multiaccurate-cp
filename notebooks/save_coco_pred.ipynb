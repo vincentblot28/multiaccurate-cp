{
 "cells": [
  {
   "cell_type": "code",
   "execution_count": 1,
   "metadata": {},
   "outputs": [],
   "source": [
    "import os\n",
    "import shutil\n",
    "\n",
    "from tqdm import tqdm"
   ]
  },
  {
   "cell_type": "code",
   "execution_count": 2,
   "metadata": {},
   "outputs": [],
   "source": [
    "OUTPUT_PATH = \"/home/vblot/multiaccurate_cp/data/coco/04_predictions\""
   ]
  },
  {
   "cell_type": "code",
   "execution_count": 10,
   "metadata": {},
   "outputs": [
    {
     "name": "stderr",
     "output_type": "stream",
     "text": [
      "  0%|          | 0/40438 [00:00<?, ?it/s]"
     ]
    },
    {
     "name": "stderr",
     "output_type": "stream",
     "text": [
      "100%|██████████| 40438/40438 [03:14<00:00, 208.23it/s]\n"
     ]
    }
   ],
   "source": [
    "#Test\n",
    "\n",
    "for pred_name in tqdm(os.listdir(\"/home/vblot/multiaccurate_cp/predictions\")):\n",
    "    if pred_name.replace(\"npy\", \"jpg\") in os.listdir(\"/home/vblot/multiaccurate_cp/data/coco/02_prepared_data/test/images\"):\n",
    "        if not os.path.exists(OUTPUT_PATH + \"/test/\"):\n",
    "            os.makedirs(OUTPUT_PATH + \"/test/pred_probas\")\n",
    "        shutil.copyfile(\"/home/vblot/multiaccurate_cp/predictions/\" + pred_name, OUTPUT_PATH + \"/test/pred_probas/\" + pred_name)"
   ]
  },
  {
   "cell_type": "code",
   "execution_count": 11,
   "metadata": {},
   "outputs": [
    {
     "name": "stderr",
     "output_type": "stream",
     "text": [
      "  0%|          | 43/40438 [00:00<01:34, 427.71it/s]"
     ]
    },
    {
     "name": "stderr",
     "output_type": "stream",
     "text": [
      "100%|██████████| 40438/40438 [01:44<00:00, 385.45it/s]\n"
     ]
    }
   ],
   "source": [
    "#Cal \n",
    "\n",
    "for pred_name in tqdm(os.listdir(\"/home/vblot/multiaccurate_cp/predictions\")):\n",
    "    if pred_name.replace(\"npy\", \"jpg\") in os.listdir(\"/home/vblot/multiaccurate_cp/data/coco/02_prepared_data/cal/images\"):\n",
    "        if not os.path.exists(OUTPUT_PATH + \"/cal/\"):\n",
    "            os.makedirs(OUTPUT_PATH + \"/cal/pred_probas\")\n",
    "        shutil.copyfile(\"/home/vblot/multiaccurate_cp/predictions/\" + pred_name, OUTPUT_PATH + \"/cal/pred_probas/\" + pred_name)"
   ]
  },
  {
   "cell_type": "code",
   "execution_count": 12,
   "metadata": {},
   "outputs": [
    {
     "name": "stderr",
     "output_type": "stream",
     "text": [
      "  0%|          | 0/40438 [00:00<?, ?it/s]"
     ]
    },
    {
     "name": "stderr",
     "output_type": "stream",
     "text": [
      "100%|██████████| 40438/40438 [01:44<00:00, 386.94it/s]\n"
     ]
    }
   ],
   "source": [
    "# Res\n",
    "\n",
    "for pred_name in tqdm(os.listdir(\"/home/vblot/multiaccurate_cp/predictions\")):\n",
    "    if pred_name.replace(\"npy\", \"jpg\") in os.listdir(\"/home/vblot/multiaccurate_cp/data/coco/02_prepared_data/res/images\"):\n",
    "        if not os.path.exists(OUTPUT_PATH + \"/res/pred_probas/\"):\n",
    "            os.makedirs(OUTPUT_PATH + \"/res/pred_probas/\")\n",
    "        shutil.copyfile(\"/home/vblot/multiaccurate_cp/predictions/\" + pred_name, OUTPUT_PATH + \"/res/pred_probas/\" + pred_name)\n",
    "        "
   ]
  },
  {
   "cell_type": "code",
   "execution_count": 13,
   "metadata": {},
   "outputs": [
    {
     "name": "stderr",
     "output_type": "stream",
     "text": [
      "100%|██████████| 10028/10028 [00:21<00:00, 470.14it/s]\n"
     ]
    }
   ],
   "source": [
    "# remove images in 02_prepared_data/res if not in 04_predictions/res\n",
    "\n",
    "for img_name in tqdm(os.listdir(\"/home/vblot/multiaccurate_cp/data/coco/02_prepared_data/res/images\")):\n",
    "    if img_name.replace(\"jpg\", \"npy\") not in os.listdir(OUTPUT_PATH + \"/res/pred_probas\"):\n",
    "        os.remove(\"/home/vblot/multiaccurate_cp/data/coco/02_prepared_data/res/images/\" + img_name)\n",
    "        os.remove(\"/home/vblot/multiaccurate_cp/data/coco/02_prepared_data/res/labels/\" + img_name.replace(\"jpg\", \"npy\"))"
   ]
  },
  {
   "cell_type": "code",
   "execution_count": 14,
   "metadata": {},
   "outputs": [
    {
     "name": "stderr",
     "output_type": "stream",
     "text": [
      "100%|██████████| 10014/10014 [00:21<00:00, 476.10it/s]\n"
     ]
    }
   ],
   "source": [
    "# remove images in 02_prepared_data/cal if not in 04_predictions/cal\n",
    "\n",
    "for img_name in tqdm(os.listdir(\"/home/vblot/multiaccurate_cp/data/coco/02_prepared_data/cal/images\")):\n",
    "    if img_name.replace(\"jpg\", \"npy\") not in os.listdir(OUTPUT_PATH + \"/cal/pred_probas\"):\n",
    "        os.remove(\"/home/vblot/multiaccurate_cp/data/coco/02_prepared_data/cal/images/\" + img_name)\n",
    "        os.remove(\"/home/vblot/multiaccurate_cp/data/coco/02_prepared_data/cal/labels/\" + img_name.replace(\"jpg\", \"npy\"))"
   ]
  },
  {
   "cell_type": "code",
   "execution_count": 15,
   "metadata": {},
   "outputs": [
    {
     "name": "stderr",
     "output_type": "stream",
     "text": [
      "100%|██████████| 20030/20030 [01:25<00:00, 233.06it/s]\n"
     ]
    }
   ],
   "source": [
    "# remove images in 02_prepared_data/test if not in 04_predictions/test\n",
    "\n",
    "for img_name in tqdm(os.listdir(\"/home/vblot/multiaccurate_cp/data/coco/02_prepared_data/test/images\")):\n",
    "    if img_name.replace(\"jpg\", \"npy\") not in os.listdir(OUTPUT_PATH + \"/test/pred_probas\"):\n",
    "        os.remove(\"/home/vblot/multiaccurate_cp/data/coco/02_prepared_data/test/images/\" + img_name)\n",
    "        os.remove(\"/home/vblot/multiaccurate_cp/data/coco/02_prepared_data/test/labels/\" + img_name.replace(\"jpg\", \"npy\"))"
   ]
  },
  {
   "cell_type": "code",
   "execution_count": 16,
   "metadata": {},
   "outputs": [],
   "source": [
    "assert len(os.listdir(\"/home/vblot/multiaccurate_cp/data/coco/02_prepared_data/res/images\")) == len(os.listdir(OUTPUT_PATH + \"/res/pred_probas\"))\n",
    "assert len(os.listdir(\"/home/vblot/multiaccurate_cp/data/coco/02_prepared_data/cal/images\")) == len(os.listdir(OUTPUT_PATH + \"/cal/pred_probas\"))\n",
    "assert len(os.listdir(\"/home/vblot/multiaccurate_cp/data/coco/02_prepared_data/test/images\")) == len(os.listdir(OUTPUT_PATH + \"/test/pred_probas\"))\n",
    "\n",
    "assert len(os.listdir(\"/home/vblot/multiaccurate_cp/data/coco/02_prepared_data/res/labels\")) == len(os.listdir(OUTPUT_PATH + \"/res/pred_probas\"))\n",
    "assert len(os.listdir(\"/home/vblot/multiaccurate_cp/data/coco/02_prepared_data/cal/labels\")) == len(os.listdir(OUTPUT_PATH + \"/cal/pred_probas\"))\n",
    "assert len(os.listdir(\"/home/vblot/multiaccurate_cp/data/coco/02_prepared_data/test/labels\")) == len(os.listdir(OUTPUT_PATH + \"/test/pred_probas\"))"
   ]
  },
  {
   "cell_type": "code",
   "execution_count": null,
   "metadata": {},
   "outputs": [],
   "source": []
  }
 ],
 "metadata": {
  "kernelspec": {
   "display_name": ".venv",
   "language": "python",
   "name": "python3"
  },
  "language_info": {
   "codemirror_mode": {
    "name": "ipython",
    "version": 3
   },
   "file_extension": ".py",
   "mimetype": "text/x-python",
   "name": "python",
   "nbconvert_exporter": "python",
   "pygments_lexer": "ipython3",
   "version": "3.10.12"
  }
 },
 "nbformat": 4,
 "nbformat_minor": 2
}
