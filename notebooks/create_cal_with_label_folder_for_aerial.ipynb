{
 "cells": [
  {
   "cell_type": "code",
   "execution_count": 5,
   "metadata": {},
   "outputs": [],
   "source": [
    "import os\n",
    "import shutil\n",
    "\n",
    "import cv2\n",
    "import numpy as np"
   ]
  },
  {
   "cell_type": "code",
   "execution_count": 8,
   "metadata": {},
   "outputs": [],
   "source": [
    "LABELS_PATH = \"/home/vblot/multiaccurate_cp/data/aerial/02_prepared_data/cal/labels\"\n",
    "IMAGES_PATH = \"/home/vblot/multiaccurate_cp/data/aerial/02_prepared_data/cal/images\"\n",
    "PRED_PROBAS_PATH = \"/home/vblot/multiaccurate_cp/data/aerial/04_predictions/cal/pred_probas\""
   ]
  },
  {
   "cell_type": "code",
   "execution_count": 9,
   "metadata": {},
   "outputs": [],
   "source": [
    "OUTPUT_LABELS_PATH = \"/home/vblot/multiaccurate_cp/data/aerial/02_prepared_data/cal_positives/labels\"\n",
    "OUTPUT_IMAGES_PATH = \"/home/vblot/multiaccurate_cp/data/aerial/02_prepared_data/cal_positives/images\"\n",
    "OUTPUT_PRED_PROBAS_PATH = \"/home/vblot/multiaccurate_cp/data/aerial/04_predictions/cal_positives/pred_probas\""
   ]
  },
  {
   "cell_type": "code",
   "execution_count": 10,
   "metadata": {},
   "outputs": [],
   "source": [
    "if not os.path.exists(OUTPUT_LABELS_PATH):\n",
    "    os.makedirs(OUTPUT_LABELS_PATH)\n",
    "if not os.path.exists(OUTPUT_IMAGES_PATH):\n",
    "    os.makedirs(OUTPUT_IMAGES_PATH)\n",
    "if not os.path.exists(OUTPUT_PRED_PROBAS_PATH):\n",
    "    os.makedirs(OUTPUT_PRED_PROBAS_PATH)"
   ]
  },
  {
   "cell_type": "code",
   "execution_count": 11,
   "metadata": {},
   "outputs": [],
   "source": [
    "for label_name in os.listdir(LABELS_PATH):\n",
    "    label = cv2.imread(os.path.join(LABELS_PATH, label_name), cv2.IMREAD_GRAYSCALE)\n",
    "    if np.sum(label) > 0:\n",
    "        shutil.copy(\n",
    "            os.path.join(LABELS_PATH, label_name),\n",
    "            os.path.join(OUTPUT_LABELS_PATH, label_name)\n",
    "        )\n",
    "        shutil.copy(\n",
    "            os.path.join(IMAGES_PATH, label_name),\n",
    "            os.path.join(OUTPUT_IMAGES_PATH, label_name)\n",
    "        )\n",
    "        shutil.copy(\n",
    "            os.path.join(PRED_PROBAS_PATH, label_name.replace(\"tif\", \"npy\")),\n",
    "            os.path.join(OUTPUT_PRED_PROBAS_PATH, label_name.replace(\"tif\", \"npy\"))\n",
    "        )"
   ]
  },
  {
   "cell_type": "code",
   "execution_count": 7,
   "metadata": {},
   "outputs": [
    {
     "data": {
      "text/plain": [
       "'/home/vblot/multiaccurate_cp/data/aerial/02_prepared_data/cal/images'"
      ]
     },
     "execution_count": 7,
     "metadata": {},
     "output_type": "execute_result"
    }
   ],
   "source": [
    "os.path.join(LABELS_PATH, label_name)"
   ]
  },
  {
   "cell_type": "code",
   "execution_count": null,
   "metadata": {},
   "outputs": [],
   "source": []
  }
 ],
 "metadata": {
  "kernelspec": {
   "display_name": ".venv",
   "language": "python",
   "name": "python3"
  },
  "language_info": {
   "codemirror_mode": {
    "name": "ipython",
    "version": 3
   },
   "file_extension": ".py",
   "mimetype": "text/x-python",
   "name": "python",
   "nbconvert_exporter": "python",
   "pygments_lexer": "ipython3",
   "version": "3.10.12"
  }
 },
 "nbformat": 4,
 "nbformat_minor": 2
}
