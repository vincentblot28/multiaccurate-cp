{
 "cells": [
  {
   "cell_type": "code",
   "execution_count": 1,
   "metadata": {},
   "outputs": [],
   "source": [
    "import sys\n",
    "sys.path.append(\"/home/vblot/multiaccurate_cp/\")"
   ]
  },
  {
   "cell_type": "code",
   "execution_count": 2,
   "metadata": {},
   "outputs": [],
   "source": [
    "import os\n",
    "import yaml\n",
    "from copy import deepcopy\n",
    "\n",
    "import cv2\n",
    "import numpy as np\n",
    "import matplotlib.pyplot as plt\n",
    "import torch\n",
    "from mapie.multi_label_classification import MapieMultiLabelClassifier\n",
    "from scipy import integrate\n",
    "from scipy.optimize import minimize\n",
    "from tqdm import tqdm\n",
    "\n",
    "from multiaccurate_cp.utils.multiaccurate_mlp import J\n",
    "\n",
    "%load_ext autoreload\n",
    "%autoreload 2"
   ]
  },
  {
   "cell_type": "code",
   "execution_count": 3,
   "metadata": {},
   "outputs": [],
   "source": [
    "BASE_DIR = \"/home/vblot/multiaccurate_cp/data/aerial\"\n",
    "MODELS_PATH = \"/home/vblot/multiaccurate_cp/data/aerial/03_model_weights/resnet\"\n",
    "MODEL_NAME = \"20240322_1039\""
   ]
  },
  {
   "cell_type": "code",
   "execution_count": 4,
   "metadata": {},
   "outputs": [
    {
     "data": {
      "text/plain": [
       "{'mean_RGB_values_path': 'data/01_raw_images/rgb_means.npy',\n",
       " 'ml_data_dir': 'data/02_prepared_data',\n",
       " 'model': {'batch_size': 40,\n",
       "  'embedding_size': 1024,\n",
       "  'epochs': 100,\n",
       "  'lr': 0.0001,\n",
       "  'model_input': 'image_and_probas',\n",
       "  'num_workers': 8,\n",
       "  'patience': 20,\n",
       "  'resnet': 'resnet50',\n",
       "  'target_recall': 0.9},\n",
       " 'output_dir': 'data/03_model_weights/resnet',\n",
       " 'probas_dir': 'data/04_predictions'}"
      ]
     },
     "execution_count": 4,
     "metadata": {},
     "output_type": "execute_result"
    }
   ],
   "source": [
    "import yaml\n",
    "\n",
    "# Specify the path to the YAML file\n",
    "file_path = os.path.join(MODELS_PATH, MODEL_NAME, \"config.yaml\")\n",
    "\n",
    "# Read the YAML file\n",
    "with open(file_path, \"r\") as file:\n",
    "    config = yaml.safe_load(file)\n",
    "config"
   ]
  },
  {
   "cell_type": "code",
   "execution_count": 5,
   "metadata": {},
   "outputs": [],
   "source": [
    "IMG_SIZE = 572\n",
    "RESNET_EMBEDDING_SIZE = config[\"model\"][\"embedding_size\"]\n"
   ]
  },
  {
   "cell_type": "code",
   "execution_count": 6,
   "metadata": {},
   "outputs": [],
   "source": [
    "DIR_CAL_PRED_PROBAS = os.path.join(BASE_DIR, \"04_predictions/cal/pred_probas\")\n",
    "DIR_CAL_LABELS = os.path.join(BASE_DIR, \"02_prepared_data/cal/labels\")\n",
    "DIR_TEST_PRED_PROBAS = DIR_CAL_PRED_PROBAS.replace(\"cal\", \"test\")\n",
    "DIR_TEST_LABELS = DIR_CAL_LABELS.replace(\"cal\", \"test\")\n",
    "\n",
    "DIR_CAL_RES_EMB = os.path.join(BASE_DIR, \"04_predictions/cal/res_embeddings\", MODEL_NAME)\n",
    "DIR_TEST_RES_EMB = DIR_CAL_RES_EMB.replace(\"cal\", \"test\")\n"
   ]
  },
  {
   "cell_type": "code",
   "execution_count": 7,
   "metadata": {},
   "outputs": [],
   "source": [
    "def load_data(pred_probas_dir, res_emb_dir, labels_dir):\n",
    "    pred_probas = np.zeros((len(os.listdir(pred_probas_dir)), IMG_SIZE, IMG_SIZE))\n",
    "    res_emb = np.zeros((len(os.listdir(res_emb_dir)), RESNET_EMBEDDING_SIZE))\n",
    "    labels = np.zeros((len(os.listdir(labels_dir)), IMG_SIZE, IMG_SIZE))\n",
    "\n",
    "    for i, (pred_proba_file, res_emb_file, label_file) in enumerate(\n",
    "        tqdm(zip(\n",
    "            sorted(os.listdir(pred_probas_dir)),\n",
    "            sorted(os.listdir(res_emb_dir)),\n",
    "            sorted(os.listdir(labels_dir))\n",
    "        ))\n",
    "    ):\n",
    "        pred_proba = np.load(os.path.join(pred_probas_dir, pred_proba_file))\n",
    "        pred_probas[i] = cv2.resize(pred_proba, (IMG_SIZE, IMG_SIZE))\n",
    "        res_emb[i] = np.load(os.path.join(res_emb_dir, res_emb_file))\n",
    "        label = cv2.imread(os.path.join(labels_dir, label_file), cv2.IMREAD_GRAYSCALE) / 255\n",
    "        labels[i] = cv2.resize(label, (IMG_SIZE, IMG_SIZE)) > .5    \n",
    "    return pred_probas, res_emb, labels\n"
   ]
  },
  {
   "cell_type": "code",
   "execution_count": 8,
   "metadata": {},
   "outputs": [
    {
     "name": "stderr",
     "output_type": "stream",
     "text": [
      "1500it [00:27, 54.91it/s] \n"
     ]
    }
   ],
   "source": [
    "cal_pred_probas, cal_res_emb, cal_labels = load_data(\n",
    "    DIR_CAL_PRED_PROBAS, DIR_CAL_RES_EMB, DIR_CAL_LABELS\n",
    ")\n"
   ]
  },
  {
   "cell_type": "code",
   "execution_count": 9,
   "metadata": {},
   "outputs": [
    {
     "name": "stderr",
     "output_type": "stream",
     "text": [
      "0it [00:00, ?it/s]"
     ]
    },
    {
     "name": "stderr",
     "output_type": "stream",
     "text": [
      "2300it [00:10, 212.84it/s]\n"
     ]
    }
   ],
   "source": [
    "test_pred_probas, test_res_emb, test_labels = load_data(\n",
    "    DIR_TEST_PRED_PROBAS, DIR_TEST_RES_EMB, DIR_TEST_LABELS\n",
    ")"
   ]
  },
  {
   "cell_type": "code",
   "execution_count": 10,
   "metadata": {},
   "outputs": [],
   "source": [
    "index_not_empy = np.where(cal_labels.sum(axis=(1, 2)) > 0)[0]\n",
    "cal_labels = cal_labels[index_not_empy]\n",
    "cal_res_emb = cal_res_emb[index_not_empy]\n",
    "cal_pred_probas = cal_pred_probas[index_not_empy]\n"
   ]
  },
  {
   "cell_type": "code",
   "execution_count": 11,
   "metadata": {},
   "outputs": [],
   "source": [
    "ALPHA = .1\n",
    "N = len(cal_labels)\n",
    "REGULARIZATION = \"ridge\""
   ]
  },
  {
   "cell_type": "markdown",
   "metadata": {},
   "source": [
    "# Fit CRC"
   ]
  },
  {
   "cell_type": "code",
   "execution_count": 12,
   "metadata": {},
   "outputs": [],
   "source": [
    "class MapieWrapper():\n",
    "    def __init__(self):\n",
    "        self.trained_ = True\n",
    "        self.classes_ = 1\n",
    "\n",
    "    def fit(self, X, y=None):\n",
    "        pass\n",
    "\n",
    "    def predict_proba(self, X):\n",
    "        return X\n",
    "\n",
    "    def predict(self, X):\n",
    "        pred_proba = self.predict_proba(X)\n",
    "        return pred_proba >= .5\n",
    "\n",
    "    def __sklearn_is_fitted__(self):\n",
    "        return True"
   ]
  },
  {
   "cell_type": "code",
   "execution_count": 13,
   "metadata": {},
   "outputs": [
    {
     "name": "stderr",
     "output_type": "stream",
     "text": [
      "100%|██████████| 1230/1230 [02:58<00:00,  6.91it/s]\n"
     ]
    }
   ],
   "source": [
    "mapie_crc = MapieMultiLabelClassifier(MapieWrapper(), method=\"crc\")\n",
    "for i in tqdm(range(len(cal_pred_probas))):\n",
    "    X, y = cal_pred_probas[i], cal_labels[i]\n",
    "    mapie_crc.partial_fit(X.ravel()[np.newaxis, :], y.ravel()[np.newaxis, :])"
   ]
  },
  {
   "cell_type": "code",
   "execution_count": 14,
   "metadata": {},
   "outputs": [
    {
     "data": {
      "text/plain": [
       "array([0.16])"
      ]
     },
     "execution_count": 14,
     "metadata": {},
     "output_type": "execute_result"
    }
   ],
   "source": [
    "_, _ = mapie_crc.predict(test_pred_probas.ravel()[np.newaxis, :], alpha=ALPHA)\n",
    "th_crc = mapie_crc.lambdas_star\n",
    "th_crc"
   ]
  },
  {
   "cell_type": "code",
   "execution_count": 15,
   "metadata": {},
   "outputs": [
    {
     "data": {
      "text/plain": [
       "(-0.7717674374580383, 0.7633820176124573)"
      ]
     },
     "execution_count": 15,
     "metadata": {},
     "output_type": "execute_result"
    }
   ],
   "source": [
    "cal_res_emb.min(), cal_res_emb.max()"
   ]
  },
  {
   "cell_type": "markdown",
   "metadata": {},
   "source": [
    "# Fit multi-accurate with ResNet embedding"
   ]
  },
  {
   "cell_type": "code",
   "execution_count": 16,
   "metadata": {},
   "outputs": [],
   "source": [
    "class Model(torch.nn.Module):\n",
    "    def __init__(self, input_size):\n",
    "        super(Model, self).__init__()\n",
    "        self.fc1 = torch.nn.Linear(input_size, 2048)\n",
    "        self.fc2 = torch.nn.Linear(2048, 4096)\n",
    "        self.fc3 = torch.nn.Linear(4096, 2048)\n",
    "        self.fc4 = torch.nn.Linear(2048, 1024)\n",
    "        self.fc5 = torch.nn.Linear(1024, 512)\n",
    "        self.fc6 = torch.nn.Linear(512, 1)\n",
    "\n",
    "        torch.nn.init.xavier_uniform_(self.fc1.weight) \n",
    "        torch.nn.init.zeros_(self.fc1.bias)\n",
    "        torch.nn.init.xavier_uniform_(self.fc2.weight)\n",
    "        torch.nn.init.zeros_(self.fc2.bias)\n",
    "        torch.nn.init.xavier_uniform_(self.fc3.weight)\n",
    "        torch.nn.init.zeros_(self.fc3.bias)\n",
    "        torch.nn.init.xavier_uniform_(self.fc4.weight)\n",
    "        torch.nn.init.zeros_(self.fc4.bias)\n",
    "        torch.nn.init.xavier_uniform_(self.fc5.weight)\n",
    "        torch.nn.init.zeros_(self.fc5.bias)\n",
    "        torch.nn.init.xavier_uniform_(self.fc6.weight)\n",
    "        torch.nn.init.zeros_(self.fc6.bias)\n",
    "\n",
    "    def forward(self, x):\n",
    "        x = self.fc1(x)\n",
    "        x = torch.nn.functional.relu(self.fc2(x))\n",
    "        x = torch.nn.functional.relu(self.fc3(x))\n",
    "        x = torch.nn.functional.relu(self.fc4(x))\n",
    "        x = torch.nn.functional.relu(self.fc5(x))\n",
    "        x = self.fc6(x)\n",
    "        return x[:, 0]\n",
    "\n",
    "class CustomLoss(torch.nn.Module):\n",
    "    def __init__(self):\n",
    "        super(CustomLoss, self).__init__()\n",
    "\n",
    "    def forward(self, mask, mask_pred, pred_th, alpha):\n",
    "        # Loss with ridge regularization\n",
    "        \n",
    "        return J(mask, mask_pred, pred_th.detach().cpu().numpy(), alpha, len(mask))"
   ]
  },
  {
   "cell_type": "code",
   "execution_count": 17,
   "metadata": {},
   "outputs": [],
   "source": [
    "class MLP:\n",
    "    def __init__(self, mask, mask_pred, emb, alpha, lr, loss_weight_decay, scheduler_step_size, scheduler_gamma):\n",
    "        self.mask = mask\n",
    "        self.mask_pred = mask_pred\n",
    "        self.emb = emb\n",
    "        self.alpha = alpha\n",
    "        self.weight_decay = loss_weight_decay\n",
    "        self.lr = lr\n",
    "        self.gamma = scheduler_gamma\n",
    "        self.step_size = scheduler_step_size\n",
    "\n",
    "    def fit(self, X, y=None):\n",
    "        emb = torch.tensor(self.emb[X], dtype=torch.float32)\n",
    "        mask = self.mask[X]\n",
    "        mask_pred = self.mask_pred[X]\n",
    "        loss = 0\n",
    "        count_bad_conv = -1\n",
    "        while int(loss) == 0:\n",
    "            count_bad_conv += 1\n",
    "            print(f\"count_bad_conv = {count_bad_conv}\")\n",
    "\n",
    "            self.model, loss = self._train_mlp(emb, mask, mask_pred, patience=10)\n",
    "        return self\n",
    "\n",
    "    def _train_mlp(self, emb, mask, mask_pred, patience):\n",
    "        print(emb.shape, mask.shape, mask_pred.shape)\n",
    "        model = Model(emb.shape[1]).to(\"cuda\")\n",
    "        criterion = CustomLoss()\n",
    "        optimizer = torch.optim.SGD(\n",
    "            model.parameters(),\n",
    "            lr=self.lr,\n",
    "            weight_decay=self.weight_decay\n",
    "        )\n",
    "        scheduler = torch.optim.lr_scheduler.StepLR(optimizer,step_size=self.step_size, gamma=self.gamma)\n",
    "        min_loss = np.inf\n",
    "        best_model = None\n",
    "        for epoch in range(1000):\n",
    "            optimizer.zero_grad()\n",
    "            th_pred = model(emb.to(\"cuda\"))\n",
    "\n",
    "            loss = torch.tensor(criterion(mask, mask_pred, th_pred.detach(), self.alpha))\n",
    "\n",
    "            if loss < min_loss:\n",
    "                min_loss = loss\n",
    "                best_model = deepcopy(model)\n",
    "                count_patience = 0\n",
    "            else:\n",
    "                count_patience += 1\n",
    "                if count_patience > patience:\n",
    "                    break\n",
    "            print(\n",
    "                f\"Epoch {epoch}, loss {loss} - mean-th {th_pred.mean()} - min-th {th_pred.min()}\"\\\n",
    "                     f\" - max-th {th_pred.max()} - lr {scheduler.get_last_lr()}\"\n",
    "            )\n",
    "            th_pred.backward(loss.repeat(len(emb)).to(\"cuda\"))\n",
    "            optimizer.step()\n",
    "            scheduler.step()\n",
    "        print(min_loss)\n",
    "        return best_model, min_loss\n",
    "\n",
    "    def predict(self, emb):\n",
    "        with torch.no_grad():\n",
    "            emb = torch.tensor(emb, dtype=torch.float32).to(\"cuda\")\n",
    "            print(emb.shape)\n",
    "            return self.model(emb)[:, None, None].cpu().numpy()\n",
    "\n",
    "    def score(self, X, y=None):\n",
    "        mask = self.mask[X]\n",
    "        mask_pred = self.mask_pred[X]\n",
    "        emb = torch.tensor(self.emb[X], dtype=torch.float32)\n",
    "        print(mask.shape, mask_pred.shape, emb.shape)\n",
    "\n",
    "        th_pred = self.predict(emb)\n",
    "        return J(mask, mask_pred, th_pred, self.alpha, len(mask))\n"
   ]
  },
  {
   "cell_type": "code",
   "execution_count": 18,
   "metadata": {},
   "outputs": [],
   "source": [
    "class MLP:\n",
    "    def __init__(self, mask, mask_pred, emb, alpha, lr, loss_weight_decay, scheduler_step_size, scheduler_gamma):\n",
    "        self.mask = mask\n",
    "        self.mask_pred = mask_pred\n",
    "        self.emb = emb\n",
    "        self.alpha = alpha\n",
    "        self.weight_decay = loss_weight_decay\n",
    "        self.lr = lr\n",
    "        self.gamma = scheduler_gamma\n",
    "        self.step_size = scheduler_step_size\n",
    "\n",
    "    def fit(self, X, y=None):\n",
    "        emb = torch.tensor(self.emb[X], dtype=torch.float32)\n",
    "        mask = self.mask[X]\n",
    "        mask_pred = self.mask_pred[X]\n",
    "        loss = 0\n",
    "        count_bad_conv = -1\n",
    "        while int(loss) == 0:\n",
    "            count_bad_conv += 1\n",
    "            print(f\"count_bad_conv = {count_bad_conv}\")\n",
    "\n",
    "            self.model, loss = self._train_mlp(emb, mask, mask_pred, patience=10)\n",
    "        return self\n",
    "\n",
    "    def _train_mlp(self, emb, mask, mask_pred, patience):\n",
    "        print(emb.shape, mask.shape, mask_pred.shape)\n",
    "        model = Model(emb.shape[1]).to(\"cuda\")\n",
    "        criterion = CustomLoss()\n",
    "        optimizer = torch.optim.SGD(\n",
    "            model.parameters(),\n",
    "            lr=self.lr,\n",
    "            weight_decay=self.weight_decay\n",
    "        )\n",
    "        scheduler = torch.optim.lr_scheduler.StepLR(optimizer,step_size=self.step_size, gamma=self.gamma)\n",
    "        min_loss = np.inf\n",
    "        best_model = None\n",
    "        for epoch in range(1000):\n",
    "            optimizer.zero_grad()\n",
    "            th_pred = model(emb.to(\"cuda\"))\n",
    "\n",
    "            loss = torch.tensor(criterion(mask, mask_pred, th_pred.detach(), self.alpha))\n",
    "\n",
    "            if loss < min_loss:\n",
    "                min_loss = loss\n",
    "                best_model = deepcopy(model)\n",
    "                count_patience = 0\n",
    "            else:\n",
    "                count_patience += 1\n",
    "                if count_patience > patience:\n",
    "                    break\n",
    "            print(\n",
    "                f\"Epoch {epoch}, loss {loss} - mean-th {th_pred.mean()} - min-th {th_pred.min()}\"\\\n",
    "                     f\" - max-th {th_pred.max()} - lr {scheduler.get_last_lr()}\"\n",
    "            )\n",
    "            th_pred.backward(loss.repeat(len(emb)).to(\"cuda\"))\n",
    "            optimizer.step()\n",
    "            scheduler.step()\n",
    "        print(min_loss)\n",
    "        return best_model, min_loss\n",
    "\n",
    "    def predict(self, emb):\n",
    "        with torch.no_grad():\n",
    "            emb = torch.tensor(emb, dtype=torch.float32).to(\"cuda\")\n",
    "            print(emb.shape)\n",
    "            return self.model(emb)[:, None, None].cpu().numpy()\n",
    "\n",
    "    def score(self, X, y=None):\n",
    "        mask = self.mask[X]\n",
    "        mask_pred = self.mask_pred[X]\n",
    "        emb = torch.tensor(self.emb[X], dtype=torch.float32)\n",
    "        print(mask.shape, mask_pred.shape, emb.shape)\n",
    "\n",
    "        th_pred = self.predict(emb)\n",
    "        return J(mask, mask_pred, th_pred, self.alpha, len(mask))\n"
   ]
  },
  {
   "cell_type": "code",
   "execution_count": 19,
   "metadata": {},
   "outputs": [
    {
     "name": "stdout",
     "output_type": "stream",
     "text": [
      "count_bad_conv = 0\n",
      "torch.Size([1230, 1024]) (1230, 572, 572) (1230, 572, 572)\n",
      "Epoch 0, loss -9.910064867290629 - mean-th 0.0020980911795049906 - min-th -0.015947220847010612 - max-th 0.017062537372112274 - lr [1e-08]\n",
      "Epoch 1, loss -9.910300667057378 - mean-th 0.005200306884944439 - min-th -0.012669727206230164 - max-th 0.02094586379826069 - lr [1e-08]\n",
      "Epoch 2, loss -9.910510428339933 - mean-th 0.008299577981233597 - min-th -0.00935877300798893 - max-th 0.024767182767391205 - lr [1e-08]\n",
      "Epoch 3, loss -9.910703030661473 - mean-th 0.011394395492970943 - min-th -0.006037048529833555 - max-th 0.028567388653755188 - lr [1e-08]\n",
      "Epoch 4, loss -9.910884708185852 - mean-th 0.01448313519358635 - min-th -0.0027885115705430508 - max-th 0.032364990562200546 - lr [1e-08]\n",
      "Epoch 5, loss -9.91105719317128 - mean-th 0.017565246671438217 - min-th 0.00045289238914847374 - max-th 0.03648027777671814 - lr [1e-08]\n",
      "Epoch 6, loss -9.911220000182736 - mean-th 0.020641669631004333 - min-th 0.00370408920571208 - max-th 0.04095897451043129 - lr [1e-08]\n",
      "Epoch 7, loss -9.911374066157935 - mean-th 0.02370997704565525 - min-th 0.0069793942384421825 - max-th 0.0454590879380703 - lr [1e-08]\n",
      "Epoch 8, loss -9.911520381437356 - mean-th 0.026768766343593597 - min-th 0.01025052834302187 - max-th 0.04998135194182396 - lr [1e-08]\n",
      "Epoch 9, loss -9.911659723869013 - mean-th 0.02981659024953842 - min-th 0.013514305464923382 - max-th 0.054471421986818314 - lr [1e-08]\n",
      "Epoch 10, loss -9.911792175677842 - mean-th 0.03285318985581398 - min-th 0.016767557710409164 - max-th 0.05893244966864586 - lr [1e-08]\n",
      "Epoch 11, loss -9.911917925805179 - mean-th 0.03587723150849342 - min-th 0.020012324675917625 - max-th 0.06337519735097885 - lr [1e-08]\n",
      "Epoch 12, loss -9.912038156170556 - mean-th 0.03888779133558273 - min-th 0.023109719157218933 - max-th 0.06780480593442917 - lr [1e-08]\n",
      "Epoch 13, loss -9.912153025225885 - mean-th 0.041884176433086395 - min-th 0.025995275005698204 - max-th 0.07222627103328705 - lr [1e-08]\n",
      "Epoch 14, loss -9.9122621546435 - mean-th 0.044864583760499954 - min-th 0.02887662500143051 - max-th 0.07662732899188995 - lr [1e-08]\n",
      "Epoch 15, loss -9.912366853029082 - mean-th 0.04782947525382042 - min-th 0.03173978626728058 - max-th 0.08101501315832138 - lr [1e-08]\n",
      "Epoch 16, loss -9.912466477768616 - mean-th 0.05077951028943062 - min-th 0.03459544479846954 - max-th 0.08539459109306335 - lr [1e-08]\n",
      "Epoch 17, loss -9.912562269516206 - mean-th 0.053713586181402206 - min-th 0.03743886575102806 - max-th 0.08977025002241135 - lr [1e-08]\n",
      "Epoch 18, loss -9.91265380309172 - mean-th 0.05663234367966652 - min-th 0.040156129747629166 - max-th 0.09413335472345352 - lr [1e-08]\n",
      "Epoch 19, loss -9.912741228920781 - mean-th 0.05953607335686684 - min-th 0.042501095682382584 - max-th 0.09847184270620346 - lr [1e-08]\n",
      "Epoch 20, loss -9.912824731492613 - mean-th 0.06242559477686882 - min-th 0.04476870223879814 - max-th 0.10280180722475052 - lr [1e-08]\n",
      "Epoch 21, loss -9.91290420043418 - mean-th 0.06530091166496277 - min-th 0.047018975019454956 - max-th 0.10708615928888321 - lr [1e-08]\n",
      "Epoch 22, loss -9.912980311476808 - mean-th 0.06816279888153076 - min-th 0.049265410751104355 - max-th 0.11132067441940308 - lr [1e-08]\n",
      "Epoch 23, loss -9.91305299345592 - mean-th 0.07101278752088547 - min-th 0.05148238688707352 - max-th 0.1154690533876419 - lr [1e-08]\n",
      "Epoch 24, loss -9.913122313005939 - mean-th 0.0738506019115448 - min-th 0.053691085427999496 - max-th 0.11960672587156296 - lr [1e-08]\n",
      "Epoch 25, loss -9.913187708070907 - mean-th 0.07667510211467743 - min-th 0.05589469522237778 - max-th 0.12374474853277206 - lr [1e-08]\n",
      "Epoch 26, loss -9.913250221149918 - mean-th 0.07948663830757141 - min-th 0.05808960646390915 - max-th 0.127873033285141 - lr [1e-08]\n",
      "Epoch 27, loss -9.913309843507545 - mean-th 0.08228502422571182 - min-th 0.06028200313448906 - max-th 0.1319936215877533 - lr [1e-08]\n",
      "Epoch 28, loss -9.913366167647503 - mean-th 0.08507175743579865 - min-th 0.06246931850910187 - max-th 0.13611452281475067 - lr [1e-08]\n",
      "Epoch 29, loss -9.913419573651138 - mean-th 0.08784643560647964 - min-th 0.0646522119641304 - max-th 0.14021794497966766 - lr [1e-08]\n",
      "Epoch 30, loss -9.913470178016501 - mean-th 0.09060858190059662 - min-th 0.06683022528886795 - max-th 0.1443052440881729 - lr [1e-08]\n",
      "Epoch 31, loss -9.913518285475405 - mean-th 0.09335839003324509 - min-th 0.06899970024824142 - max-th 0.1483626812696457 - lr [1e-08]\n",
      "Epoch 32, loss -9.913563438539382 - mean-th 0.09609637409448624 - min-th 0.07115301489830017 - max-th 0.15239226818084717 - lr [1e-08]\n",
      "Epoch 33, loss -9.913605558502296 - mean-th 0.09882410615682602 - min-th 0.07330322265625 - max-th 0.15642832219600677 - lr [1e-08]\n",
      "Epoch 34, loss -9.913645357852902 - mean-th 0.10154260694980621 - min-th 0.0754520371556282 - max-th 0.16048386693000793 - lr [1e-08]\n",
      "Epoch 35, loss -9.91368246774893 - mean-th 0.1042526587843895 - min-th 0.07759817689657211 - max-th 0.16449765861034393 - lr [1e-08]\n",
      "Epoch 36, loss -9.913716735872532 - mean-th 0.10695374757051468 - min-th 0.0797341987490654 - max-th 0.1684790551662445 - lr [1e-08]\n",
      "Epoch 37, loss -9.913748400148304 - mean-th 0.10964665561914444 - min-th 0.08186737447977066 - max-th 0.17244978249073029 - lr [1e-08]\n",
      "Epoch 38, loss -9.913777308340082 - mean-th 0.1123325452208519 - min-th 0.0839945450425148 - max-th 0.17641182243824005 - lr [1e-08]\n",
      "Epoch 39, loss -9.913804082745742 - mean-th 0.11501148343086243 - min-th 0.08611708879470825 - max-th 0.18039636313915253 - lr [1e-08]\n",
      "Epoch 40, loss -9.913827900329583 - mean-th 0.11768292635679245 - min-th 0.08823181688785553 - max-th 0.18435998260974884 - lr [1e-08]\n",
      "Epoch 41, loss -9.913849899630703 - mean-th 0.12034838646650314 - min-th 0.0902605801820755 - max-th 0.18831460177898407 - lr [1e-08]\n",
      "Epoch 42, loss -9.913868832913629 - mean-th 0.12300688773393631 - min-th 0.0922643318772316 - max-th 0.19224557280540466 - lr [1e-08]\n",
      "Epoch 43, loss -9.913885507128395 - mean-th 0.12565873563289642 - min-th 0.09426496922969818 - max-th 0.19624625146389008 - lr [1e-08]\n",
      "Epoch 44, loss -9.913899718928162 - mean-th 0.1283036321401596 - min-th 0.0962628498673439 - max-th 0.20020945370197296 - lr [1e-08]\n",
      "Epoch 45, loss -9.913912145027084 - mean-th 0.13094109296798706 - min-th 0.09825830161571503 - max-th 0.2041412889957428 - lr [1e-08]\n",
      "Epoch 46, loss -9.913922059129918 - mean-th 0.133570596575737 - min-th 0.10024812817573547 - max-th 0.20807230472564697 - lr [1e-08]\n",
      "Epoch 47, loss -9.913930356607269 - mean-th 0.1361943930387497 - min-th 0.10221674293279648 - max-th 0.21200808882713318 - lr [1e-08]\n"
     ]
    },
    {
     "ename": "KeyboardInterrupt",
     "evalue": "",
     "output_type": "error",
     "traceback": [
      "\u001b[0;31m---------------------------------------------------------------------------\u001b[0m",
      "\u001b[0;31mKeyboardInterrupt\u001b[0m                         Traceback (most recent call last)",
      "Cell \u001b[0;32mIn[19], line 5\u001b[0m\n\u001b[1;32m      1\u001b[0m mlp \u001b[38;5;241m=\u001b[39m MLP(\n\u001b[1;32m      2\u001b[0m     cal_labels, cal_pred_probas, cal_res_emb, alpha\u001b[38;5;241m=\u001b[39mALPHA, lr\u001b[38;5;241m=\u001b[39m\u001b[38;5;241m1e-8\u001b[39m,\n\u001b[1;32m      3\u001b[0m     loss_weight_decay\u001b[38;5;241m=\u001b[39m\u001b[38;5;241m1000\u001b[39m, scheduler_step_size\u001b[38;5;241m=\u001b[39m\u001b[38;5;241m50\u001b[39m, scheduler_gamma\u001b[38;5;241m=\u001b[39m\u001b[38;5;241m.8\u001b[39m\n\u001b[1;32m      4\u001b[0m )\n\u001b[0;32m----> 5\u001b[0m \u001b[43mmlp\u001b[49m\u001b[38;5;241;43m.\u001b[39;49m\u001b[43mfit\u001b[49m\u001b[43m(\u001b[49m\u001b[43mnp\u001b[49m\u001b[38;5;241;43m.\u001b[39;49m\u001b[43marange\u001b[49m\u001b[43m(\u001b[49m\u001b[38;5;28;43mlen\u001b[39;49m\u001b[43m(\u001b[49m\u001b[43mcal_labels\u001b[49m\u001b[43m)\u001b[49m\u001b[43m)\u001b[49m\u001b[43m)\u001b[49m\n",
      "Cell \u001b[0;32mIn[18], line 22\u001b[0m, in \u001b[0;36mMLP.fit\u001b[0;34m(self, X, y)\u001b[0m\n\u001b[1;32m     19\u001b[0m     count_bad_conv \u001b[38;5;241m+\u001b[39m\u001b[38;5;241m=\u001b[39m \u001b[38;5;241m1\u001b[39m\n\u001b[1;32m     20\u001b[0m     \u001b[38;5;28mprint\u001b[39m(\u001b[38;5;124mf\u001b[39m\u001b[38;5;124m\"\u001b[39m\u001b[38;5;124mcount_bad_conv = \u001b[39m\u001b[38;5;132;01m{\u001b[39;00mcount_bad_conv\u001b[38;5;132;01m}\u001b[39;00m\u001b[38;5;124m\"\u001b[39m)\n\u001b[0;32m---> 22\u001b[0m     \u001b[38;5;28mself\u001b[39m\u001b[38;5;241m.\u001b[39mmodel, loss \u001b[38;5;241m=\u001b[39m \u001b[38;5;28;43mself\u001b[39;49m\u001b[38;5;241;43m.\u001b[39;49m\u001b[43m_train_mlp\u001b[49m\u001b[43m(\u001b[49m\u001b[43memb\u001b[49m\u001b[43m,\u001b[49m\u001b[43m \u001b[49m\u001b[43mmask\u001b[49m\u001b[43m,\u001b[49m\u001b[43m \u001b[49m\u001b[43mmask_pred\u001b[49m\u001b[43m,\u001b[49m\u001b[43m \u001b[49m\u001b[43mpatience\u001b[49m\u001b[38;5;241;43m=\u001b[39;49m\u001b[38;5;241;43m10\u001b[39;49m\u001b[43m)\u001b[49m\n\u001b[1;32m     23\u001b[0m \u001b[38;5;28;01mreturn\u001b[39;00m \u001b[38;5;28mself\u001b[39m\n",
      "Cell \u001b[0;32mIn[18], line 41\u001b[0m, in \u001b[0;36mMLP._train_mlp\u001b[0;34m(self, emb, mask, mask_pred, patience)\u001b[0m\n\u001b[1;32m     38\u001b[0m optimizer\u001b[38;5;241m.\u001b[39mzero_grad()\n\u001b[1;32m     39\u001b[0m th_pred \u001b[38;5;241m=\u001b[39m model(emb\u001b[38;5;241m.\u001b[39mto(\u001b[38;5;124m\"\u001b[39m\u001b[38;5;124mcuda\u001b[39m\u001b[38;5;124m\"\u001b[39m))\n\u001b[0;32m---> 41\u001b[0m loss \u001b[38;5;241m=\u001b[39m torch\u001b[38;5;241m.\u001b[39mtensor(\u001b[43mcriterion\u001b[49m\u001b[43m(\u001b[49m\u001b[43mmask\u001b[49m\u001b[43m,\u001b[49m\u001b[43m \u001b[49m\u001b[43mmask_pred\u001b[49m\u001b[43m,\u001b[49m\u001b[43m \u001b[49m\u001b[43mth_pred\u001b[49m\u001b[38;5;241;43m.\u001b[39;49m\u001b[43mdetach\u001b[49m\u001b[43m(\u001b[49m\u001b[43m)\u001b[49m\u001b[43m,\u001b[49m\u001b[43m \u001b[49m\u001b[38;5;28;43mself\u001b[39;49m\u001b[38;5;241;43m.\u001b[39;49m\u001b[43malpha\u001b[49m\u001b[43m)\u001b[49m)\n\u001b[1;32m     43\u001b[0m \u001b[38;5;28;01mif\u001b[39;00m loss \u001b[38;5;241m<\u001b[39m min_loss:\n\u001b[1;32m     44\u001b[0m     min_loss \u001b[38;5;241m=\u001b[39m loss\n",
      "File \u001b[0;32m~/multiaccurate_cp/.venv/lib/python3.10/site-packages/torch/nn/modules/module.py:1532\u001b[0m, in \u001b[0;36mModule._wrapped_call_impl\u001b[0;34m(self, *args, **kwargs)\u001b[0m\n\u001b[1;32m   1530\u001b[0m     \u001b[38;5;28;01mreturn\u001b[39;00m \u001b[38;5;28mself\u001b[39m\u001b[38;5;241m.\u001b[39m_compiled_call_impl(\u001b[38;5;241m*\u001b[39margs, \u001b[38;5;241m*\u001b[39m\u001b[38;5;241m*\u001b[39mkwargs)  \u001b[38;5;66;03m# type: ignore[misc]\u001b[39;00m\n\u001b[1;32m   1531\u001b[0m \u001b[38;5;28;01melse\u001b[39;00m:\n\u001b[0;32m-> 1532\u001b[0m     \u001b[38;5;28;01mreturn\u001b[39;00m \u001b[38;5;28;43mself\u001b[39;49m\u001b[38;5;241;43m.\u001b[39;49m\u001b[43m_call_impl\u001b[49m\u001b[43m(\u001b[49m\u001b[38;5;241;43m*\u001b[39;49m\u001b[43margs\u001b[49m\u001b[43m,\u001b[49m\u001b[43m \u001b[49m\u001b[38;5;241;43m*\u001b[39;49m\u001b[38;5;241;43m*\u001b[39;49m\u001b[43mkwargs\u001b[49m\u001b[43m)\u001b[49m\n",
      "File \u001b[0;32m~/multiaccurate_cp/.venv/lib/python3.10/site-packages/torch/nn/modules/module.py:1541\u001b[0m, in \u001b[0;36mModule._call_impl\u001b[0;34m(self, *args, **kwargs)\u001b[0m\n\u001b[1;32m   1536\u001b[0m \u001b[38;5;66;03m# If we don't have any hooks, we want to skip the rest of the logic in\u001b[39;00m\n\u001b[1;32m   1537\u001b[0m \u001b[38;5;66;03m# this function, and just call forward.\u001b[39;00m\n\u001b[1;32m   1538\u001b[0m \u001b[38;5;28;01mif\u001b[39;00m \u001b[38;5;129;01mnot\u001b[39;00m (\u001b[38;5;28mself\u001b[39m\u001b[38;5;241m.\u001b[39m_backward_hooks \u001b[38;5;129;01mor\u001b[39;00m \u001b[38;5;28mself\u001b[39m\u001b[38;5;241m.\u001b[39m_backward_pre_hooks \u001b[38;5;129;01mor\u001b[39;00m \u001b[38;5;28mself\u001b[39m\u001b[38;5;241m.\u001b[39m_forward_hooks \u001b[38;5;129;01mor\u001b[39;00m \u001b[38;5;28mself\u001b[39m\u001b[38;5;241m.\u001b[39m_forward_pre_hooks\n\u001b[1;32m   1539\u001b[0m         \u001b[38;5;129;01mor\u001b[39;00m _global_backward_pre_hooks \u001b[38;5;129;01mor\u001b[39;00m _global_backward_hooks\n\u001b[1;32m   1540\u001b[0m         \u001b[38;5;129;01mor\u001b[39;00m _global_forward_hooks \u001b[38;5;129;01mor\u001b[39;00m _global_forward_pre_hooks):\n\u001b[0;32m-> 1541\u001b[0m     \u001b[38;5;28;01mreturn\u001b[39;00m \u001b[43mforward_call\u001b[49m\u001b[43m(\u001b[49m\u001b[38;5;241;43m*\u001b[39;49m\u001b[43margs\u001b[49m\u001b[43m,\u001b[49m\u001b[43m \u001b[49m\u001b[38;5;241;43m*\u001b[39;49m\u001b[38;5;241;43m*\u001b[39;49m\u001b[43mkwargs\u001b[49m\u001b[43m)\u001b[49m\n\u001b[1;32m   1543\u001b[0m \u001b[38;5;28;01mtry\u001b[39;00m:\n\u001b[1;32m   1544\u001b[0m     result \u001b[38;5;241m=\u001b[39m \u001b[38;5;28;01mNone\u001b[39;00m\n",
      "Cell \u001b[0;32mIn[16], line 40\u001b[0m, in \u001b[0;36mCustomLoss.forward\u001b[0;34m(self, mask, mask_pred, pred_th, alpha)\u001b[0m\n\u001b[1;32m     37\u001b[0m \u001b[38;5;28;01mdef\u001b[39;00m \u001b[38;5;21mforward\u001b[39m(\u001b[38;5;28mself\u001b[39m, mask, mask_pred, pred_th, alpha):\n\u001b[1;32m     38\u001b[0m     \u001b[38;5;66;03m# Loss with ridge regularization\u001b[39;00m\n\u001b[0;32m---> 40\u001b[0m     \u001b[38;5;28;01mreturn\u001b[39;00m \u001b[43mJ\u001b[49m\u001b[43m(\u001b[49m\u001b[43mmask\u001b[49m\u001b[43m,\u001b[49m\u001b[43m \u001b[49m\u001b[43mmask_pred\u001b[49m\u001b[43m,\u001b[49m\u001b[43m \u001b[49m\u001b[43mpred_th\u001b[49m\u001b[38;5;241;43m.\u001b[39;49m\u001b[43mdetach\u001b[49m\u001b[43m(\u001b[49m\u001b[43m)\u001b[49m\u001b[38;5;241;43m.\u001b[39;49m\u001b[43mcpu\u001b[49m\u001b[43m(\u001b[49m\u001b[43m)\u001b[49m\u001b[38;5;241;43m.\u001b[39;49m\u001b[43mnumpy\u001b[49m\u001b[43m(\u001b[49m\u001b[43m)\u001b[49m\u001b[43m,\u001b[49m\u001b[43m \u001b[49m\u001b[43malpha\u001b[49m\u001b[43m,\u001b[49m\u001b[43m \u001b[49m\u001b[38;5;28;43mlen\u001b[39;49m\u001b[43m(\u001b[49m\u001b[43mmask\u001b[49m\u001b[43m)\u001b[49m\u001b[43m)\u001b[49m\n",
      "File \u001b[0;32m~/multiaccurate_cp/multiaccurate_cp/utils/multiaccurate_mlp.py:69\u001b[0m, in \u001b[0;36mJ\u001b[0;34m(y, y_pred, pred_th, alpha, n)\u001b[0m\n\u001b[1;32m     68\u001b[0m \u001b[38;5;28;01mdef\u001b[39;00m \u001b[38;5;21mJ\u001b[39m(y, y_pred, pred_th, alpha, n):\n\u001b[0;32m---> 69\u001b[0m     integral \u001b[38;5;241m=\u001b[39m \u001b[43m_I_vec_multi_proc\u001b[49m\u001b[43m(\u001b[49m\u001b[43my\u001b[49m\u001b[43m,\u001b[49m\u001b[43m \u001b[49m\u001b[43my_pred\u001b[49m\u001b[43m,\u001b[49m\u001b[43m \u001b[49m\u001b[43mpred_th\u001b[49m\u001b[43m,\u001b[49m\u001b[43m \u001b[49m\u001b[43malpha\u001b[49m\u001b[43m,\u001b[49m\u001b[43m \u001b[49m\u001b[43mn\u001b[49m\u001b[43m)\u001b[49m\n\u001b[1;32m     70\u001b[0m     \u001b[38;5;28;01mreturn\u001b[39;00m np\u001b[38;5;241m.\u001b[39msum(integral) \u001b[38;5;241m/\u001b[39m (n \u001b[38;5;241m+\u001b[39m \u001b[38;5;241m1\u001b[39m) \u001b[38;5;241m+\u001b[39m (\u001b[38;5;241m1\u001b[39m \u001b[38;5;241m-\u001b[39m alpha) \u001b[38;5;241m/\u001b[39m (n \u001b[38;5;241m+\u001b[39m \u001b[38;5;241m1\u001b[39m)\n",
      "File \u001b[0;32m~/multiaccurate_cp/multiaccurate_cp/utils/multiaccurate_mlp.py:53\u001b[0m, in \u001b[0;36m_I_vec_multi_proc\u001b[0;34m(y, y_pred, pred_th, alpha, n)\u001b[0m\n\u001b[1;32m     51\u001b[0m \u001b[38;5;28;01mwith\u001b[39;00m Pool(\u001b[38;5;241m20\u001b[39m) \u001b[38;5;28;01mas\u001b[39;00m p:\n\u001b[1;32m     52\u001b[0m     data \u001b[38;5;241m=\u001b[39m [(y[i], y_pred[i], us[i], alpha, n) \u001b[38;5;28;01mfor\u001b[39;00m i \u001b[38;5;129;01min\u001b[39;00m \u001b[38;5;28mrange\u001b[39m(\u001b[38;5;28mlen\u001b[39m(y))]\n\u001b[0;32m---> 53\u001b[0m     integrals \u001b[38;5;241m=\u001b[39m p\u001b[38;5;241m.\u001b[39mstarmap(_integrate_i, data)\n\u001b[1;32m     54\u001b[0m \u001b[38;5;28;01mreturn\u001b[39;00m integrals\n",
      "File \u001b[0;32m/usr/lib/python3.10/multiprocessing/pool.py:375\u001b[0m, in \u001b[0;36mPool.starmap\u001b[0;34m(self, func, iterable, chunksize)\u001b[0m\n\u001b[1;32m    369\u001b[0m \u001b[38;5;28;01mdef\u001b[39;00m \u001b[38;5;21mstarmap\u001b[39m(\u001b[38;5;28mself\u001b[39m, func, iterable, chunksize\u001b[38;5;241m=\u001b[39m\u001b[38;5;28;01mNone\u001b[39;00m):\n\u001b[1;32m    370\u001b[0m \u001b[38;5;250m    \u001b[39m\u001b[38;5;124;03m'''\u001b[39;00m\n\u001b[1;32m    371\u001b[0m \u001b[38;5;124;03m    Like `map()` method but the elements of the `iterable` are expected to\u001b[39;00m\n\u001b[1;32m    372\u001b[0m \u001b[38;5;124;03m    be iterables as well and will be unpacked as arguments. Hence\u001b[39;00m\n\u001b[1;32m    373\u001b[0m \u001b[38;5;124;03m    `func` and (a, b) becomes func(a, b).\u001b[39;00m\n\u001b[1;32m    374\u001b[0m \u001b[38;5;124;03m    '''\u001b[39;00m\n\u001b[0;32m--> 375\u001b[0m     \u001b[38;5;28;01mreturn\u001b[39;00m \u001b[38;5;28;43mself\u001b[39;49m\u001b[38;5;241;43m.\u001b[39;49m\u001b[43m_map_async\u001b[49m\u001b[43m(\u001b[49m\u001b[43mfunc\u001b[49m\u001b[43m,\u001b[49m\u001b[43m \u001b[49m\u001b[43miterable\u001b[49m\u001b[43m,\u001b[49m\u001b[43m \u001b[49m\u001b[43mstarmapstar\u001b[49m\u001b[43m,\u001b[49m\u001b[43m \u001b[49m\u001b[43mchunksize\u001b[49m\u001b[43m)\u001b[49m\u001b[38;5;241;43m.\u001b[39;49m\u001b[43mget\u001b[49m\u001b[43m(\u001b[49m\u001b[43m)\u001b[49m\n",
      "File \u001b[0;32m/usr/lib/python3.10/multiprocessing/pool.py:768\u001b[0m, in \u001b[0;36mApplyResult.get\u001b[0;34m(self, timeout)\u001b[0m\n\u001b[1;32m    767\u001b[0m \u001b[38;5;28;01mdef\u001b[39;00m \u001b[38;5;21mget\u001b[39m(\u001b[38;5;28mself\u001b[39m, timeout\u001b[38;5;241m=\u001b[39m\u001b[38;5;28;01mNone\u001b[39;00m):\n\u001b[0;32m--> 768\u001b[0m     \u001b[38;5;28;43mself\u001b[39;49m\u001b[38;5;241;43m.\u001b[39;49m\u001b[43mwait\u001b[49m\u001b[43m(\u001b[49m\u001b[43mtimeout\u001b[49m\u001b[43m)\u001b[49m\n\u001b[1;32m    769\u001b[0m     \u001b[38;5;28;01mif\u001b[39;00m \u001b[38;5;129;01mnot\u001b[39;00m \u001b[38;5;28mself\u001b[39m\u001b[38;5;241m.\u001b[39mready():\n\u001b[1;32m    770\u001b[0m         \u001b[38;5;28;01mraise\u001b[39;00m \u001b[38;5;167;01mTimeoutError\u001b[39;00m\n",
      "File \u001b[0;32m/usr/lib/python3.10/multiprocessing/pool.py:765\u001b[0m, in \u001b[0;36mApplyResult.wait\u001b[0;34m(self, timeout)\u001b[0m\n\u001b[1;32m    764\u001b[0m \u001b[38;5;28;01mdef\u001b[39;00m \u001b[38;5;21mwait\u001b[39m(\u001b[38;5;28mself\u001b[39m, timeout\u001b[38;5;241m=\u001b[39m\u001b[38;5;28;01mNone\u001b[39;00m):\n\u001b[0;32m--> 765\u001b[0m     \u001b[38;5;28;43mself\u001b[39;49m\u001b[38;5;241;43m.\u001b[39;49m\u001b[43m_event\u001b[49m\u001b[38;5;241;43m.\u001b[39;49m\u001b[43mwait\u001b[49m\u001b[43m(\u001b[49m\u001b[43mtimeout\u001b[49m\u001b[43m)\u001b[49m\n",
      "File \u001b[0;32m/usr/lib/python3.10/threading.py:607\u001b[0m, in \u001b[0;36mEvent.wait\u001b[0;34m(self, timeout)\u001b[0m\n\u001b[1;32m    605\u001b[0m signaled \u001b[38;5;241m=\u001b[39m \u001b[38;5;28mself\u001b[39m\u001b[38;5;241m.\u001b[39m_flag\n\u001b[1;32m    606\u001b[0m \u001b[38;5;28;01mif\u001b[39;00m \u001b[38;5;129;01mnot\u001b[39;00m signaled:\n\u001b[0;32m--> 607\u001b[0m     signaled \u001b[38;5;241m=\u001b[39m \u001b[38;5;28;43mself\u001b[39;49m\u001b[38;5;241;43m.\u001b[39;49m\u001b[43m_cond\u001b[49m\u001b[38;5;241;43m.\u001b[39;49m\u001b[43mwait\u001b[49m\u001b[43m(\u001b[49m\u001b[43mtimeout\u001b[49m\u001b[43m)\u001b[49m\n\u001b[1;32m    608\u001b[0m \u001b[38;5;28;01mreturn\u001b[39;00m signaled\n",
      "File \u001b[0;32m/usr/lib/python3.10/threading.py:320\u001b[0m, in \u001b[0;36mCondition.wait\u001b[0;34m(self, timeout)\u001b[0m\n\u001b[1;32m    318\u001b[0m \u001b[38;5;28;01mtry\u001b[39;00m:    \u001b[38;5;66;03m# restore state no matter what (e.g., KeyboardInterrupt)\u001b[39;00m\n\u001b[1;32m    319\u001b[0m     \u001b[38;5;28;01mif\u001b[39;00m timeout \u001b[38;5;129;01mis\u001b[39;00m \u001b[38;5;28;01mNone\u001b[39;00m:\n\u001b[0;32m--> 320\u001b[0m         \u001b[43mwaiter\u001b[49m\u001b[38;5;241;43m.\u001b[39;49m\u001b[43macquire\u001b[49m\u001b[43m(\u001b[49m\u001b[43m)\u001b[49m\n\u001b[1;32m    321\u001b[0m         gotit \u001b[38;5;241m=\u001b[39m \u001b[38;5;28;01mTrue\u001b[39;00m\n\u001b[1;32m    322\u001b[0m     \u001b[38;5;28;01melse\u001b[39;00m:\n",
      "\u001b[0;31mKeyboardInterrupt\u001b[0m: "
     ]
    }
   ],
   "source": [
    "mlp = MLP(\n",
    "    cal_labels, cal_pred_probas, cal_res_emb, alpha=ALPHA, lr=1e-8,\n",
    "    loss_weight_decay=1000, scheduler_step_size=50, scheduler_gamma=.8\n",
    ")\n",
    "mlp.fit(np.arange(len(cal_labels)))"
   ]
  },
  {
   "cell_type": "code",
   "execution_count": null,
   "metadata": {},
   "outputs": [
    {
     "name": "stdout",
     "output_type": "stream",
     "text": [
      "(1221, 64, 64) (1221, 64, 64) torch.Size([1221, 1024])\n",
      "torch.Size([1221, 1024])\n"
     ]
    },
    {
     "name": "stderr",
     "output_type": "stream",
     "text": [
      "/tmp/ipykernel_1593795/2627984888.py:63: UserWarning: To copy construct from a tensor, it is recommended to use sourceTensor.clone().detach() or sourceTensor.clone().detach().requires_grad_(True), rather than torch.tensor(sourceTensor).\n",
      "  emb = torch.tensor(emb, dtype=torch.float32).to(\"cuda\")\n"
     ]
    },
    {
     "data": {
      "text/plain": [
       "-9.914331334390344"
      ]
     },
     "execution_count": 98,
     "metadata": {},
     "output_type": "execute_result"
    }
   ],
   "source": [
    "mlp.score(np.arange(len(cal_labels)))"
   ]
  },
  {
   "cell_type": "code",
   "execution_count": null,
   "metadata": {},
   "outputs": [
    {
     "name": "stdout",
     "output_type": "stream",
     "text": [
      "torch.Size([2300, 1024])\n"
     ]
    },
    {
     "data": {
      "text/plain": [
       "(2300, 1, 1)"
      ]
     },
     "execution_count": 99,
     "metadata": {},
     "output_type": "execute_result"
    }
   ],
   "source": [
    "ths_res = mlp.predict(test_res_emb)\n",
    "ths_res.shape"
   ]
  },
  {
   "cell_type": "markdown",
   "metadata": {},
   "source": [
    "# Apply thresholds on pred-probas"
   ]
  },
  {
   "cell_type": "code",
   "execution_count": null,
   "metadata": {},
   "outputs": [
    {
     "name": "stderr",
     "output_type": "stream",
     "text": [
      "/tmp/ipykernel_1593795/2065774704.py:2: RuntimeWarning: invalid value encountered in divide\n",
      "  recall_resnet = (y_pred_test_th_resnet * test_labels).sum(axis=(1, 2)) / test_labels.sum(axis=(1, 2))\n",
      "/tmp/ipykernel_1593795/2065774704.py:5: RuntimeWarning: invalid value encountered in divide\n",
      "  recall_test_crc = (y_pred_test_th_crc * test_labels).sum(axis=(1, 2)) / test_labels.sum(axis=(1, 2))\n"
     ]
    }
   ],
   "source": [
    "y_pred_test_th_resnet = (test_pred_probas >= ths_res).astype(int)\n",
    "recall_resnet = (y_pred_test_th_resnet * test_labels).sum(axis=(1, 2)) / test_labels.sum(axis=(1, 2))\n",
    "\n",
    "y_pred_test_th_crc = (test_pred_probas >= th_crc).astype(int)\n",
    "recall_test_crc = (y_pred_test_th_crc * test_labels).sum(axis=(1, 2)) / test_labels.sum(axis=(1, 2))"
   ]
  },
  {
   "cell_type": "code",
   "execution_count": null,
   "metadata": {},
   "outputs": [
    {
     "name": "stderr",
     "output_type": "stream",
     "text": [
      "/tmp/ipykernel_1593795/3101535864.py:1: RuntimeWarning: invalid value encountered in divide\n",
      "  precision_test_resnet = (y_pred_test_th_resnet * test_labels).sum(axis=(1, 2)) / y_pred_test_th_resnet.sum(axis=(1, 2))\n",
      "/tmp/ipykernel_1593795/3101535864.py:2: RuntimeWarning: invalid value encountered in divide\n",
      "  precision_test_crc =(y_pred_test_th_crc * test_labels).sum(axis=(1, 2)) / y_pred_test_th_crc.sum(axis=(1, 2))\n"
     ]
    }
   ],
   "source": [
    "precision_test_resnet = (y_pred_test_th_resnet * test_labels).sum(axis=(1, 2)) / y_pred_test_th_resnet.sum(axis=(1, 2))\n",
    "precision_test_crc =(y_pred_test_th_crc * test_labels).sum(axis=(1, 2)) / y_pred_test_th_crc.sum(axis=(1, 2))\n"
   ]
  },
  {
   "cell_type": "markdown",
   "metadata": {},
   "source": [
    "# Plot results"
   ]
  },
  {
   "cell_type": "code",
   "execution_count": null,
   "metadata": {},
   "outputs": [
    {
     "data": {
      "image/png": "[encoded data removed]",
      "text/plain": [
       "<Figure size 2000x3000 with 6 Axes>"
      ]
     },
     "metadata": {},
     "output_type": "display_data"
    }
   ],
   "source": [
    "s = 10\n",
    "nrow = 3\n",
    "ncol = 2\n",
    "f, ax = plt.subplots(nrow, ncol, figsize=(ncol * s, nrow * s))\n",
    "\n",
    "\n",
    "\n",
    "ax[0, 0].hist(recall_resnet, bins=100, alpha=.5)\n",
    "ax[0, 0].set_title(f\"Muti-accurate ResNet embedding - average recall: {np.nanmean(recall_resnet):.3f}\")\n",
    "ax[0, 0].set_xlabel(\"Recall\")\n",
    "\n",
    "ax[0, 1].hist(recall_test_crc, bins=100, alpha=.5)\n",
    "ax[0, 1].set_title(f\"CRC - average recall: {np.nanmean(recall_test_crc):.3f}\")\n",
    "ax[0, 1].set_xlabel(\"Recall\")\n",
    "\n",
    "ax[1, 0].hist(precision_test_resnet, bins=100, alpha=.5)\n",
    "ax[1, 0].set_title(f\"Muti-accurate ResNet embedding - average precision: {np.nanmean(precision_test_resnet):.3f}\")\n",
    "ax[1, 0].set_xlabel(\"Precision\")\n",
    "\n",
    "ax[1, 1].hist(precision_test_crc, bins=100, alpha=.5)\n",
    "ax[1, 1].set_title(f\"CRC - average precision: {np.nanmean(precision_test_crc):.3f}\")\n",
    "ax[1, 1].set_xlabel(\"Precision\")\n",
    "\n",
    "ax[2, 0].hist(ths_res[:, 0, 0], bins=100, alpha=.5)\n",
    "ax[2, 0].set_title(f\"Muti-accurate ResNet embedding - average threshold: {np.nanmean(ths_res):.3f}\")\n",
    "ax[2, 0].set_xlabel(\"Threshold\")\n",
    "\n",
    "ax[2, 1].set_axis_off()"
   ]
  },
  {
   "cell_type": "markdown",
   "metadata": {},
   "source": [
    "# Check shape of J"
   ]
  },
  {
   "cell_type": "code",
   "execution_count": null,
   "metadata": {},
   "outputs": [],
   "source": [
    "test_res_emb[0][None, ...].shape"
   ]
  },
  {
   "cell_type": "code",
   "execution_count": null,
   "metadata": {},
   "outputs": [],
   "source": [
    "model(torch.tensor(test_res_emb[0][None, ...], dtype=torch.float).to(\"cuda\"))"
   ]
  },
  {
   "cell_type": "code",
   "execution_count": null,
   "metadata": {},
   "outputs": [],
   "source": [
    "weights = model.state_dict()[\"fc1.weight\"].cpu().numpy()[0, :]\n",
    "bias = model.state_dict()[\"fc1.bias\"].cpu().numpy()\n",
    "\n",
    "pred_hand = np.dot(test_res_emb, weights) + bias\n",
    "pred_hand"
   ]
  },
  {
   "cell_type": "code",
   "execution_count": null,
   "metadata": {},
   "outputs": [],
   "source": [
    "weights = model.state_dict()[\"fc1.weight\"].cpu().numpy()[0, :]\n",
    "bias = model.state_dict()[\"fc1.bias\"].cpu().numpy()\n",
    "argsort = np.argsort(np.abs(weights))[::-1]\n",
    "\n",
    "n_cols = 3\n",
    "n_rows = 3\n",
    "s = 10\n",
    "f, ax = plt.subplots(n_rows, n_cols, figsize=(n_cols * s, n_rows * s))\n",
    "\n",
    "count = 0\n",
    "for i in tqdm(range(n_rows)):\n",
    "    for j in range(n_cols):\n",
    "        weights_modified = weights.copy()\n",
    "        real_pred = np.dot(cal_res_emb, weights) + bias\n",
    "        J_real = J(cal_labels, cal_pred_probas, real_pred, .1, len(cal_labels)).mean() + .1 * np.linalg.norm(weights) **2\n",
    "        new_ws = np.linspace(weights[argsort[count]] - 1, weights[argsort[count]] + 1, 100)\n",
    "        Js = []\n",
    "        for new_w in new_ws:\n",
    "            weights_modified[argsort[count]] = new_w\n",
    "            pred_hand = np.dot(cal_res_emb, weights_modified) + bias\n",
    "            Js.append(J(cal_labels, cal_pred_probas, pred_hand, .1, len(cal_labels)).mean() + .1 * np.linalg.norm(weights_modified) **2)\n",
    "        Js = np.array(Js)\n",
    "        sorted_indices = np.argsort(new_ws)\n",
    "        ax[i, j].plot(new_ws[sorted_indices], Js[sorted_indices])\n",
    "        ax[i, j].scatter(weights[argsort[count]], J_real, c=\"red\")\n",
    "        ax[i, j].set_title(f\"Weight {argsort[count]} - value {weights[argsort[count]]}\")\n",
    "\n",
    "        count += 1\n"
   ]
  },
  {
   "cell_type": "code",
   "execution_count": null,
   "metadata": {},
   "outputs": [],
   "source": [
    "plt.plot(Js)"
   ]
  },
  {
   "cell_type": "code",
   "execution_count": null,
   "metadata": {},
   "outputs": [],
   "source": [
    "plt.hist(precision_test_resnet - precision_test_crc)\n",
    "plt.show()"
   ]
  },
  {
   "cell_type": "code",
   "execution_count": null,
   "metadata": {},
   "outputs": [],
   "source": [
    "np.nanmean((precision_test_resnet - precision_test_crc))"
   ]
  },
  {
   "cell_type": "code",
   "execution_count": null,
   "metadata": {},
   "outputs": [],
   "source": [
    "plt.hist(recall_resnet - recall_test_crc)\n",
    "plt.show()"
   ]
  },
  {
   "cell_type": "code",
   "execution_count": null,
   "metadata": {},
   "outputs": [],
   "source": [
    "np.nanmean(precision_test_unet)\n",
    "t_unet = []\n",
    "for i in precision_test_unet:\n",
    "    if i == 0:\n",
    "        continue\n",
    "    else:\n",
    "        t_unet.append(i)\n",
    "\n",
    "t_resnet = []\n",
    "for i in precision_test_resnet:\n",
    "    if i == 0:\n",
    "        continue\n",
    "    else:\n",
    "        t_resnet.append(i)\n",
    "\n",
    "t_crc = []\n",
    "for i in precision_test_crc:\n",
    "    if i == 0:\n",
    "        continue\n",
    "    else:\n",
    "        t_crc.append(i)\n",
    "\n",
    "np.nanmean(t_unet), np.nanmean(t_resnet), np.nanmean(t_crc)"
   ]
  },
  {
   "cell_type": "code",
   "execution_count": null,
   "metadata": {},
   "outputs": [],
   "source": [
    "np.nanmean(t)"
   ]
  },
  {
   "cell_type": "code",
   "execution_count": null,
   "metadata": {},
   "outputs": [],
   "source": [
    "len(precision_test_unet)"
   ]
  },
  {
   "cell_type": "code",
   "execution_count": null,
   "metadata": {},
   "outputs": [],
   "source": []
  }
 ],
 "metadata": {
  "kernelspec": {
   "display_name": ".venv",
   "language": "python",
   "name": "python3"
  },
  "language_info": {
   "codemirror_mode": {
    "name": "ipython",
    "version": 3
   },
   "file_extension": ".py",
   "mimetype": "text/x-python",
   "name": "python",
   "nbconvert_exporter": "python",
   "pygments_lexer": "ipython3",
   "version": "3.10.12"
  }
 },
 "nbformat": 4,
 "nbformat_minor": 2
}
